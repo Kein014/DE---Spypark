{
  "cells": [
    {
      "cell_type": "code",
      "execution_count": 1,
      "metadata": {
        "colab": {
          "base_uri": "https://localhost:8080/"
        },
        "id": "w4ot99HZ2NjW",
        "outputId": "38d0bf80-03ce-4645-9ad1-eb02b733093c"
      },
      "outputs": [
        {
          "name": "stdout",
          "output_type": "stream",
          "text": [
            "Looking in indexes: https://pypi.org/simple, https://us-python.pkg.dev/colab-wheels/public/simple/\n",
            "Collecting pyspark\n",
            "  Downloading pyspark-3.3.0.tar.gz (281.3 MB)\n",
            "\u001b[K     |████████████████████████████████| 281.3 MB 64 kB/s \n",
            "\u001b[?25hCollecting py4j==0.10.9.5\n",
            "  Downloading py4j-0.10.9.5-py2.py3-none-any.whl (199 kB)\n",
            "\u001b[K     |████████████████████████████████| 199 kB 69.4 MB/s \n",
            "\u001b[?25hBuilding wheels for collected packages: pyspark\n",
            "  Building wheel for pyspark (setup.py) ... \u001b[?25l\u001b[?25hdone\n",
            "  Created wheel for pyspark: filename=pyspark-3.3.0-py2.py3-none-any.whl size=281764026 sha256=f23fc94ad8847019b46f3e6de054cac22cdd505c4ccd7e8bec3bcfc03422c4a3\n",
            "  Stored in directory: /root/.cache/pip/wheels/7a/8e/1b/f73a52650d2e5f337708d9f6a1750d451a7349a867f928b885\n",
            "Successfully built pyspark\n",
            "Installing collected packages: py4j, pyspark\n",
            "Successfully installed py4j-0.10.9.5 pyspark-3.3.0\n"
          ]
        }
      ],
      "source": [
        "!pip install pyspark"
      ]
    },
    {
      "cell_type": "code",
      "execution_count": 2,
      "metadata": {
        "id": "wIbOItT93Bmr"
      },
      "outputs": [],
      "source": [
        "import pyspark"
      ]
    },
    {
      "cell_type": "code",
      "execution_count": 3,
      "metadata": {
        "colab": {
          "base_uri": "https://localhost:8080/"
        },
        "id": "cxEFz0XC3Fye",
        "outputId": "e5eb53a0-c1cb-43d2-908d-0e2706a25330"
      },
      "outputs": [
        {
          "name": "stdout",
          "output_type": "stream",
          "text": [
            "Mounted at /content/drive\n"
          ]
        }
      ],
      "source": [
        "from google.colab import drive\n",
        "drive.mount('/content/drive')"
      ]
    },
    {
      "cell_type": "code",
      "execution_count": 4,
      "metadata": {
        "id": "Z4f_jhqI3MU0"
      },
      "outputs": [],
      "source": [
        "import os\n",
        "path = \"\" \n",
        "os.chdir(path)"
      ]
    },
    {
      "cell_type": "code",
      "execution_count": 5,
      "metadata": {
        "colab": {
          "base_uri": "https://localhost:8080/"
        },
        "id": "L6LAu9Du3VTL",
        "outputId": "8ae2e066-f711-4b3d-d395-6c8db832aed6"
      },
      "outputs": [
        {
          "data": {
            "text/plain": [
              "['Customer-details.xlsx',\n",
              " 'Order-details.xlsx',\n",
              " 'Sales-details.xlsx',\n",
              " 'Region-details.xlsx',\n",
              " 'Product-details.xlsx',\n",
              " 'Lab02 - Dashboard in PowerBI .docx',\n",
              " 'Lab02 - Dashboard in PowerBI.pbix',\n",
              " 'Dashboard.png',\n",
              " 'Lab02 - Dashboard in PowerBI 2.pbix',\n",
              " 'Customer-details.csv',\n",
              " 'Order-details.csv',\n",
              " 'Product-details.csv',\n",
              " 'Region-details.csv',\n",
              " 'Sales-details.csv']"
            ]
          },
          "execution_count": 5,
          "metadata": {},
          "output_type": "execute_result"
        }
      ],
      "source": [
        "os.listdir()"
      ]
    },
    {
      "cell_type": "code",
      "execution_count": 6,
      "metadata": {
        "id": "nHAWKi183jWM"
      },
      "outputs": [],
      "source": [
        "from pyspark.sql import SparkSession\n",
        "spark=SparkSession.builder.appName('SparkSQL').getOrCreate()"
      ]
    },
    {
      "cell_type": "code",
      "execution_count": 7,
      "metadata": {
        "colab": {
          "base_uri": "https://localhost:8080/",
          "height": 220
        },
        "id": "VBeY2ANx4Fda",
        "outputId": "84f9a7fc-0d1a-43e2-978b-20f77771c531"
      },
      "outputs": [
        {
          "data": {
            "text/html": [
              "\n",
              "            <div>\n",
              "                <p><b>SparkSession - in-memory</b></p>\n",
              "                \n",
              "        <div>\n",
              "            <p><b>SparkContext</b></p>\n",
              "\n",
              "            <p><a href=\"http://f7a5b9955940:4040\">Spark UI</a></p>\n",
              "\n",
              "            <dl>\n",
              "              <dt>Version</dt>\n",
              "                <dd><code>v3.3.0</code></dd>\n",
              "              <dt>Master</dt>\n",
              "                <dd><code>local[*]</code></dd>\n",
              "              <dt>AppName</dt>\n",
              "                <dd><code>SparkSQL</code></dd>\n",
              "            </dl>\n",
              "        </div>\n",
              "        \n",
              "            </div>\n",
              "        "
            ],
            "text/plain": [
              "<pyspark.sql.session.SparkSession at 0x7f43edf5c790>"
            ]
          },
          "execution_count": 7,
          "metadata": {},
          "output_type": "execute_result"
        }
      ],
      "source": [
        "spark"
      ]
    },
    {
      "cell_type": "code",
      "execution_count": 8,
      "metadata": {
        "colab": {
          "base_uri": "https://localhost:8080/"
        },
        "id": "L-HIwnC64iHN",
        "outputId": "dd6fdda4-c083-447b-9ae6-277b0a878f1e"
      },
      "outputs": [
        {
          "name": "stdout",
          "output_type": "stream",
          "text": [
            "+-----------+------------------+\n",
            "|Customer ID|     Customer Name|\n",
            "+-----------+------------------+\n",
            "|   CG-12520|       Claire Gute|\n",
            "|   WG-45983|      Henry Stalin|\n",
            "|   DV-13045|   Darrin Van Huff|\n",
            "|   SO-20335|    Sean O'Donnell|\n",
            "|   BH-11710|   Brosina Hoffman|\n",
            "|   AA-10480|      Andrew Allen|\n",
            "|   IM-15070|      Irene Maddox|\n",
            "|   HP-14815|     Harold Pawlan|\n",
            "|   PK-19075|         Pete Kriz|\n",
            "|   AG-10270|   Alejandro Grove|\n",
            "|   ZD-21925|Zuschuss Donatelli|\n",
            "|   KB-16585|         Ken Black|\n",
            "|   SF-20065|   Sandra Flanagan|\n",
            "|   EB-13870|       Emily Burns|\n",
            "|    RV-8346|        Matt Damon|\n",
            "+-----------+------------------+\n",
            "\n"
          ]
        }
      ],
      "source": [
        "customer = spark.read.option('header','true').option(\"delimiter\", \";\").csv('Customer-details.csv')\n",
        "customer.show()"
      ]
    },
    {
      "cell_type": "code",
      "execution_count": 9,
      "metadata": {
        "colab": {
          "base_uri": "https://localhost:8080/"
        },
        "id": "3XoLzp4N6vlT",
        "outputId": "d5dc2ab6-30ba-409b-f468-bd677c6144e7"
      },
      "outputs": [
        {
          "name": "stdout",
          "output_type": "stream",
          "text": [
            "+--------------+----------+\n",
            "|      Order ID|Order Date|\n",
            "+--------------+----------+\n",
            "|CA-2016-152156|08-11-2017|\n",
            "|CA-2016-138688|12-06-2017|\n",
            "|US-2015-108966|11-01-2019|\n",
            "|CA-2014-115812|09-05-2019|\n",
            "|CA-2017-114412|15-04-2017|\n",
            "|CA-2016-161389|05-12-2017|\n",
            "|US-2015-118983|22-11-2018|\n",
            "|CA-2014-105893|11-11-2018|\n",
            "|CA-2014-167164|13-05-2018|\n",
            "|CA-2014-143336|27-08-2018|\n",
            "|CA-2014-143452|20-02-2019|\n",
            "|CA-2016-137330|09-12-2018|\n",
            "|US-2016-137330|20-12-2017|\n",
            "|US-2017-156909|16-07-2018|\n",
            "|CA-2015-106320|25-04-2019|\n",
            "+--------------+----------+\n",
            "\n"
          ]
        }
      ],
      "source": [
        "order = spark.read.option('header','true').option(\"delimiter\", \";\").csv('Order-details.csv')\n",
        "order.show()"
      ]
    },
    {
      "cell_type": "code",
      "execution_count": 10,
      "metadata": {
        "colab": {
          "base_uri": "https://localhost:8080/"
        },
        "id": "T4IetZu06-zT",
        "outputId": "384f8ef7-e630-4c30-a16f-6945c6ec0a3c"
      },
      "outputs": [
        {
          "name": "stdout",
          "output_type": "stream",
          "text": [
            "+--------------+-----------+--------+---------------+--------+------+--------+--------+------+\n",
            "|      Order ID|Customer ID|Place ID|     Product ID|Sales ID| Sales|Quantity|Discount| Cost |\n",
            "+--------------+-----------+--------+---------------+--------+------+--------+--------+------+\n",
            "|CA-2016-152156|   CG-12520|       1|FUR-BO-10001798|       1|122261|     200|       0|120000|\n",
            "|CA-2016-138688|   WG-45983|       2|FUR-CH-10000454|       2|173100|     389|       0|170000|\n",
            "|US-2015-108966|   DV-13045|       3|OFF-LA-10000240|       3| 98652|     422|       0| 92000|\n",
            "|CA-2014-115812|   SO-20335|       4|FUR-TA-10000577|       4| 95700|     501|    0.45| 90000|\n",
            "|CA-2017-114412|   BH-11710|       5|FUR-FU-10001487|       5|223682|     290|     0.2|215000|\n",
            "|CA-2016-161389|   AA-10480|       6|TEC-PH-10002275|       6|488600|     720|       0|485000|\n",
            "|US-2015-118983|   IM-15070|       7|OFF-BI-10002215|       7|728202|     450|       0|728202|\n",
            "|CA-2014-105893|   HP-14815|       8|OFF-AP-10001492|       8|907152|     650|     0.2|890000|\n",
            "|CA-2014-167164|   PK-19075|       9|FUR-CH-10002774|       9|180504|     320|     0.2|170000|\n",
            "|CA-2014-143336|   AG-10270|      10|FUR-TA-10000577|      10|114900|     560|       0|108900|\n",
            "|CA-2014-143452|   ZD-21925|      11|TEC-AC-10003027|      11|170684|     900|     0.2|150000|\n",
            "|CA-2016-137330|   KB-16585|      12|FUR-BO-10004834|      12|911424|     410|     0.2|908500|\n",
            "|US-2016-137330|   SF-20065|      13|FUR-FU-10004848|      13|155520|     305|     0.2|140000|\n",
            "|US-2017-156909|   EB-13870|      14|OFF-EN-10001509|      14|407976|     310|     0.2|400976|\n",
            "|CA-2015-106320|    RV-8346|      15|OFF-AR-10004042|      15|688100|     540|     0.8|680100|\n",
            "+--------------+-----------+--------+---------------+--------+------+--------+--------+------+\n",
            "\n"
          ]
        }
      ],
      "source": [
        "sale = spark.read.option('header','true').option(\"delimiter\", \";\").csv('Sales-details.csv')\n",
        "sale.show()"
      ]
    },
    {
      "cell_type": "code",
      "execution_count": 128,
      "metadata": {
        "colab": {
          "base_uri": "https://localhost:8080/"
        },
        "id": "zkfWHW8G7Jo_",
        "outputId": "f64342c1-954d-42ee-9e27-ea19c66b22f7"
      },
      "outputs": [
        {
          "name": "stdout",
          "output_type": "stream",
          "text": [
            "+---------------+---------------+------------+--------------------+\n",
            "|     Product ID|       Category|Sub-Category|        Product Name|\n",
            "+---------------+---------------+------------+--------------------+\n",
            "|FUR-BO-10001798|      Furniture|   Bookcases|Bush Somerset Col...|\n",
            "|FUR-CH-10000454|      Furniture|      Chairs|Hon Deluxe Fabric...|\n",
            "|OFF-LA-10000240|Office Supplies|      Labels|Self-Adhesive Add...|\n",
            "|FUR-TA-10000577|      Furniture|      Tables|Bretford CR4500 S...|\n",
            "|FUR-FU-10001487|      Furniture| Furnishings|Eldon Expressions...|\n",
            "|TEC-PH-10002275|     Technology|      Phones|Mitel 5320 IP Pho...|\n",
            "|OFF-BI-10002215|Office Supplies|     Binders|Wilson Jones Hang...|\n",
            "|OFF-AP-10001492|Office Supplies|  Appliances|Acco Six-Outlet P...|\n",
            "|FUR-CH-10002774|      Furniture|      Chairs|Global Deluxe Sta...|\n",
            "|FUR-TA-10000577|      Furniture|      Tables|Bretford CR4500 S...|\n",
            "|TEC-AC-10003027|     Technology| Accessories|Imation 8GB Mini ...|\n",
            "|FUR-BO-10004834|      Furniture|   Bookcases|Riverside Palais ...|\n",
            "|FUR-FU-10004848|      Furniture| Furnishings|\"Howard Miller 13...|\n",
            "|OFF-EN-10001509|Office Supplies|   Envelopes|Poly String Tie E...|\n",
            "|OFF-AR-10004042|Office Supplies|         Art|BOSTON Model 1800...|\n",
            "+---------------+---------------+------------+--------------------+\n",
            "\n"
          ]
        }
      ],
      "source": [
        "product = spark.read.option('header','true').option(\"delimiter\", \";\").csv('Product-details.csv')\n",
        "product.show()"
      ]
    },
    {
      "cell_type": "code",
      "execution_count": 12,
      "metadata": {
        "colab": {
          "base_uri": "https://localhost:8080/"
        },
        "id": "CVaN9Nrn7SFt",
        "outputId": "3b442173-ee7a-4088-e238-d02d06646bf0"
      },
      "outputs": [
        {
          "name": "stdout",
          "output_type": "stream",
          "text": [
            "+--------+-------------+--------------+\n",
            "|Place ID|         City|         State|\n",
            "+--------+-------------+--------------+\n",
            "|       1|    Henderson|      Kentucky|\n",
            "|       2|  Los Angeles|    California|\n",
            "|       3|  Los Angeles|    California|\n",
            "|       4|      Concord|North Carolina|\n",
            "|       5|      Seattle|    Washington|\n",
            "|       6|   Fort Worth|         Texas|\n",
            "|       7|      Madison|     Wisconsin|\n",
            "|       8|  West Jordan|          Utah|\n",
            "|       9|San Francisco|    California|\n",
            "|      10|      Fremont|      Nebraska|\n",
            "|      11|      Fremont|      Nebraska|\n",
            "|      12| Philadelphia|  Pennsylvania|\n",
            "|      13|         Orem|          Utah|\n",
            "|      14|  Los Angeles|    California|\n",
            "|      15| Philadelphia|  Pennsylvania|\n",
            "+--------+-------------+--------------+\n",
            "\n"
          ]
        }
      ],
      "source": [
        "region = spark.read.option('header','true').option(\"delimiter\", \";\").csv('Region-details.csv')\n",
        "region.show()"
      ]
    },
    {
      "cell_type": "code",
      "execution_count": 13,
      "metadata": {
        "colab": {
          "base_uri": "https://localhost:8080/",
          "height": 124
        },
        "id": "KaWSobvX7m1o",
        "outputId": "3595e7db-09ea-451c-a6b3-20ee2a8d55b5"
      },
      "outputs": [
        {
          "data": {
            "text/plain": [
              "DataFrame[Customer ID: string, Customer Name: string]"
            ]
          },
          "metadata": {},
          "output_type": "display_data"
        },
        {
          "data": {
            "text/plain": [
              "DataFrame[Product ID: string, Category: string, Sub-Category: string, Product Name: string]"
            ]
          },
          "metadata": {},
          "output_type": "display_data"
        },
        {
          "data": {
            "text/plain": [
              "DataFrame[Order ID: string, Order Date: string]"
            ]
          },
          "metadata": {},
          "output_type": "display_data"
        },
        {
          "data": {
            "text/plain": [
              "DataFrame[Order ID: string, Customer ID: string, Place ID: string, Product ID: string, Sales ID: string, Sales: string, Quantity: string, Discount: string, Cost : string]"
            ]
          },
          "metadata": {},
          "output_type": "display_data"
        },
        {
          "data": {
            "text/plain": [
              "DataFrame[Place ID: string, City: string, State: string]"
            ]
          },
          "metadata": {},
          "output_type": "display_data"
        }
      ],
      "source": [
        "display(customer)\n",
        "display(product)\n",
        "display(order)\n",
        "display(sale)\n",
        "display(region)"
      ]
    },
    {
      "cell_type": "markdown",
      "metadata": {
        "id": "9eDEYTJBk-se"
      },
      "source": [
        "#Data Type Conversion"
      ]
    },
    {
      "cell_type": "code",
      "execution_count": 15,
      "metadata": {
        "id": "E0GIfvej-y72"
      },
      "outputs": [],
      "source": [
        "from pyspark.sql.types import DateType\n",
        "from pyspark.sql.types import StringType, FloatType, IntegerType\n",
        "from pyspark.sql import functions as F"
      ]
    },
    {
      "cell_type": "code",
      "execution_count": 16,
      "metadata": {
        "colab": {
          "base_uri": "https://localhost:8080/"
        },
        "id": "H-628GF58-BW",
        "outputId": "7322cebe-44c0-4d53-ed61-f777aa889358"
      },
      "outputs": [
        {
          "name": "stdout",
          "output_type": "stream",
          "text": [
            "+--------------+----------+\n",
            "|      Order ID|Order Date|\n",
            "+--------------+----------+\n",
            "|CA-2016-152156|2017-11-08|\n",
            "|CA-2016-138688|2017-06-12|\n",
            "|US-2015-108966|2019-01-11|\n",
            "|CA-2014-115812|2019-05-09|\n",
            "|CA-2017-114412|2017-04-15|\n",
            "|CA-2016-161389|2017-12-05|\n",
            "|US-2015-118983|2018-11-22|\n",
            "|CA-2014-105893|2018-11-11|\n",
            "|CA-2014-167164|2018-05-13|\n",
            "|CA-2014-143336|2018-08-27|\n",
            "|CA-2014-143452|2019-02-20|\n",
            "|CA-2016-137330|2018-12-09|\n",
            "|US-2016-137330|2017-12-20|\n",
            "|US-2017-156909|2018-07-16|\n",
            "|CA-2015-106320|2019-04-25|\n",
            "+--------------+----------+\n",
            "\n"
          ]
        }
      ],
      "source": [
        "order = order.withColumn(\"Order Date\", F.to_date(F.unix_timestamp('Order Date', 'dd-MM-yyyy').cast('timestamp')))\n",
        "order.show()"
      ]
    },
    {
      "cell_type": "code",
      "execution_count": 17,
      "metadata": {
        "colab": {
          "base_uri": "https://localhost:8080/",
          "height": 408
        },
        "id": "5wbAzUyiAOSJ",
        "outputId": "9012a28f-f4d2-4a69-e27b-cc5c8f89986f"
      },
      "outputs": [
        {
          "name": "stdout",
          "output_type": "stream",
          "text": [
            "+--------------+-----------+--------+---------------+--------+------+--------+--------+------+\n",
            "|      Order ID|Customer ID|Place ID|     Product ID|Sales ID| Sales|Quantity|Discount|  Cost|\n",
            "+--------------+-----------+--------+---------------+--------+------+--------+--------+------+\n",
            "|CA-2016-152156|   CG-12520|       1|FUR-BO-10001798|       1|122261|     200|       0|120000|\n",
            "|CA-2016-138688|   WG-45983|       2|FUR-CH-10000454|       2|173100|     389|       0|170000|\n",
            "|US-2015-108966|   DV-13045|       3|OFF-LA-10000240|       3| 98652|     422|       0| 92000|\n",
            "|CA-2014-115812|   SO-20335|       4|FUR-TA-10000577|       4| 95700|     501|    0.45| 90000|\n",
            "|CA-2017-114412|   BH-11710|       5|FUR-FU-10001487|       5|223682|     290|     0.2|215000|\n",
            "|CA-2016-161389|   AA-10480|       6|TEC-PH-10002275|       6|488600|     720|       0|485000|\n",
            "|US-2015-118983|   IM-15070|       7|OFF-BI-10002215|       7|728202|     450|       0|728202|\n",
            "|CA-2014-105893|   HP-14815|       8|OFF-AP-10001492|       8|907152|     650|     0.2|890000|\n",
            "|CA-2014-167164|   PK-19075|       9|FUR-CH-10002774|       9|180504|     320|     0.2|170000|\n",
            "|CA-2014-143336|   AG-10270|      10|FUR-TA-10000577|      10|114900|     560|       0|108900|\n",
            "|CA-2014-143452|   ZD-21925|      11|TEC-AC-10003027|      11|170684|     900|     0.2|150000|\n",
            "|CA-2016-137330|   KB-16585|      12|FUR-BO-10004834|      12|911424|     410|     0.2|908500|\n",
            "|US-2016-137330|   SF-20065|      13|FUR-FU-10004848|      13|155520|     305|     0.2|140000|\n",
            "|US-2017-156909|   EB-13870|      14|OFF-EN-10001509|      14|407976|     310|     0.2|400976|\n",
            "|CA-2015-106320|    RV-8346|      15|OFF-AR-10004042|      15|688100|     540|     0.8|680100|\n",
            "+--------------+-----------+--------+---------------+--------+------+--------+--------+------+\n",
            "\n"
          ]
        },
        {
          "data": {
            "text/plain": [
              "DataFrame[Order ID: string, Customer ID: string, Place ID: string, Product ID: string, Sales ID: string, Sales: string, Quantity: string, Discount: string, Cost: string]"
            ]
          },
          "metadata": {},
          "output_type": "display_data"
        }
      ],
      "source": [
        "# Because Cost have blank space in name so we need to rename Cost to remove space\n",
        "sale = sale.withColumnRenamed(\"Cost \", \"Cost\")\n",
        "sale.show()\n",
        "display(sale)"
      ]
    },
    {
      "cell_type": "code",
      "execution_count": 18,
      "metadata": {
        "colab": {
          "base_uri": "https://localhost:8080/",
          "height": 408
        },
        "id": "AYgjyrvF_Wxj",
        "outputId": "a6156766-3d0b-4bbe-f863-0a0b818e41c0"
      },
      "outputs": [
        {
          "name": "stdout",
          "output_type": "stream",
          "text": [
            "+--------------+-----------+--------+---------------+--------+------+--------+--------+------+\n",
            "|      Order ID|Customer ID|Place ID|     Product ID|Sales ID| Sales|Quantity|Discount|  Cost|\n",
            "+--------------+-----------+--------+---------------+--------+------+--------+--------+------+\n",
            "|CA-2016-152156|   CG-12520|       1|FUR-BO-10001798|       1|122261|     200|     0.0|120000|\n",
            "|CA-2016-138688|   WG-45983|       2|FUR-CH-10000454|       2|173100|     389|     0.0|170000|\n",
            "|US-2015-108966|   DV-13045|       3|OFF-LA-10000240|       3| 98652|     422|     0.0| 92000|\n",
            "|CA-2014-115812|   SO-20335|       4|FUR-TA-10000577|       4| 95700|     501|    0.45| 90000|\n",
            "|CA-2017-114412|   BH-11710|       5|FUR-FU-10001487|       5|223682|     290|     0.2|215000|\n",
            "|CA-2016-161389|   AA-10480|       6|TEC-PH-10002275|       6|488600|     720|     0.0|485000|\n",
            "|US-2015-118983|   IM-15070|       7|OFF-BI-10002215|       7|728202|     450|     0.0|728202|\n",
            "|CA-2014-105893|   HP-14815|       8|OFF-AP-10001492|       8|907152|     650|     0.2|890000|\n",
            "|CA-2014-167164|   PK-19075|       9|FUR-CH-10002774|       9|180504|     320|     0.2|170000|\n",
            "|CA-2014-143336|   AG-10270|      10|FUR-TA-10000577|      10|114900|     560|     0.0|108900|\n",
            "|CA-2014-143452|   ZD-21925|      11|TEC-AC-10003027|      11|170684|     900|     0.2|150000|\n",
            "|CA-2016-137330|   KB-16585|      12|FUR-BO-10004834|      12|911424|     410|     0.2|908500|\n",
            "|US-2016-137330|   SF-20065|      13|FUR-FU-10004848|      13|155520|     305|     0.2|140000|\n",
            "|US-2017-156909|   EB-13870|      14|OFF-EN-10001509|      14|407976|     310|     0.2|400976|\n",
            "|CA-2015-106320|    RV-8346|      15|OFF-AR-10004042|      15|688100|     540|     0.8|680100|\n",
            "+--------------+-----------+--------+---------------+--------+------+--------+--------+------+\n",
            "\n"
          ]
        },
        {
          "data": {
            "text/plain": [
              "DataFrame[Order ID: string, Customer ID: string, Place ID: int, Product ID: string, Sales ID: int, Sales: int, Quantity: int, Discount: float, Cost: int]"
            ]
          },
          "metadata": {},
          "output_type": "display_data"
        }
      ],
      "source": [
        "sale = sale.withColumn(\"Place ID\", sale[\"Place ID\"].cast(IntegerType()))\n",
        "sale = sale.withColumn(\"Sales ID\", sale[\"Sales ID\"].cast(IntegerType()))\n",
        "sale = sale.withColumn(\"Sales\", sale[\"Sales\"].cast(IntegerType()))\n",
        "sale = sale.withColumn(\"Quantity\", sale[\"Quantity\"].cast(IntegerType()))\n",
        "sale = sale.withColumn(\"Discount\", sale[\"Discount\"].cast(FloatType()))\n",
        "sale = sale.withColumn(\"Cost\", sale[\"Cost\"].cast(IntegerType()))\n",
        "sale.show()\n",
        "display(sale)"
      ]
    },
    {
      "cell_type": "code",
      "execution_count": 19,
      "metadata": {
        "colab": {
          "base_uri": "https://localhost:8080/",
          "height": 390
        },
        "id": "MT7aWspXBIOk",
        "outputId": "39724f2f-8bfc-48c2-d539-c1109de46203"
      },
      "outputs": [
        {
          "name": "stdout",
          "output_type": "stream",
          "text": [
            "+--------+-------------+--------------+\n",
            "|Place ID|         City|         State|\n",
            "+--------+-------------+--------------+\n",
            "|       1|    Henderson|      Kentucky|\n",
            "|       2|  Los Angeles|    California|\n",
            "|       3|  Los Angeles|    California|\n",
            "|       4|      Concord|North Carolina|\n",
            "|       5|      Seattle|    Washington|\n",
            "|       6|   Fort Worth|         Texas|\n",
            "|       7|      Madison|     Wisconsin|\n",
            "|       8|  West Jordan|          Utah|\n",
            "|       9|San Francisco|    California|\n",
            "|      10|      Fremont|      Nebraska|\n",
            "|      11|      Fremont|      Nebraska|\n",
            "|      12| Philadelphia|  Pennsylvania|\n",
            "|      13|         Orem|          Utah|\n",
            "|      14|  Los Angeles|    California|\n",
            "|      15| Philadelphia|  Pennsylvania|\n",
            "+--------+-------------+--------------+\n",
            "\n"
          ]
        },
        {
          "data": {
            "text/plain": [
              "DataFrame[Place ID: int, City: string, State: string]"
            ]
          },
          "metadata": {},
          "output_type": "display_data"
        }
      ],
      "source": [
        "region = region.withColumn(\"Place ID\", region[\"Place ID\"].cast(IntegerType()))\n",
        "region.show()\n",
        "display(region)"
      ]
    },
    {
      "cell_type": "code",
      "execution_count": 20,
      "metadata": {
        "colab": {
          "base_uri": "https://localhost:8080/",
          "height": 124
        },
        "id": "reruJRn1BvNr",
        "outputId": "c323a813-5b75-4bed-d2b0-f5d506cb9a5e"
      },
      "outputs": [
        {
          "data": {
            "text/plain": [
              "DataFrame[Customer ID: string, Customer Name: string]"
            ]
          },
          "metadata": {},
          "output_type": "display_data"
        },
        {
          "data": {
            "text/plain": [
              "DataFrame[Product ID: string, Category: string, Sub-Category: string, Product Name: string]"
            ]
          },
          "metadata": {},
          "output_type": "display_data"
        },
        {
          "data": {
            "text/plain": [
              "DataFrame[Order ID: string, Order Date: date]"
            ]
          },
          "metadata": {},
          "output_type": "display_data"
        },
        {
          "data": {
            "text/plain": [
              "DataFrame[Order ID: string, Customer ID: string, Place ID: int, Product ID: string, Sales ID: int, Sales: int, Quantity: int, Discount: float, Cost: int]"
            ]
          },
          "metadata": {},
          "output_type": "display_data"
        },
        {
          "data": {
            "text/plain": [
              "DataFrame[Place ID: int, City: string, State: string]"
            ]
          },
          "metadata": {},
          "output_type": "display_data"
        }
      ],
      "source": [
        "display(customer)\n",
        "display(product)\n",
        "display(order)\n",
        "display(sale)\n",
        "display(region)"
      ]
    },
    {
      "cell_type": "markdown",
      "metadata": {
        "id": "iVvPxm-KlWeY"
      },
      "source": [
        "# DataFrame Information "
      ]
    },
    {
      "cell_type": "code",
      "execution_count": 21,
      "metadata": {
        "colab": {
          "base_uri": "https://localhost:8080/",
          "height": 106
        },
        "id": "ALg8CH3LXZRE",
        "outputId": "0368e455-eea2-438a-9955-9a8057c0fcd9"
      },
      "outputs": [
        {
          "data": {
            "text/plain": [
              "[Row(Customer ID='CG-12520', Customer Name='Claire Gute'),\n",
              " Row(Customer ID='WG-45983', Customer Name='Henry Stalin'),\n",
              " Row(Customer ID='DV-13045', Customer Name='Darrin Van Huff'),\n",
              " Row(Customer ID='SO-20335', Customer Name=\"Sean O'Donnell\"),\n",
              " Row(Customer ID='BH-11710', Customer Name='Brosina Hoffman')]"
            ]
          },
          "metadata": {},
          "output_type": "display_data"
        }
      ],
      "source": [
        "display(customer.head(5))"
      ]
    },
    {
      "cell_type": "code",
      "execution_count": 22,
      "metadata": {
        "colab": {
          "base_uri": "https://localhost:8080/"
        },
        "id": "c1GgMDW2lh3g",
        "outputId": "5f72306b-fafa-4e5e-82fc-b458120c0ffc"
      },
      "outputs": [
        {
          "name": "stdout",
          "output_type": "stream",
          "text": [
            "root\n",
            " |-- Order ID: string (nullable = true)\n",
            " |-- Order Date: date (nullable = true)\n",
            "\n"
          ]
        }
      ],
      "source": [
        "order.printSchema()"
      ]
    },
    {
      "cell_type": "code",
      "execution_count": 23,
      "metadata": {
        "colab": {
          "base_uri": "https://localhost:8080/"
        },
        "id": "iFWQOfB3ll1g",
        "outputId": "06448574-2f09-4459-9b57-ac6815887f27"
      },
      "outputs": [
        {
          "name": "stdout",
          "output_type": "stream",
          "text": [
            "[('Product ID', 'string'), ('Category', 'string'), ('Sub-Category', 'string'), ('Product Name', 'string')]\n"
          ]
        }
      ],
      "source": [
        "print(product.dtypes)"
      ]
    },
    {
      "cell_type": "code",
      "execution_count": 24,
      "metadata": {
        "colab": {
          "base_uri": "https://localhost:8080/"
        },
        "id": "Hu0WZw6Vlu65",
        "outputId": "cb984b01-0462-4ccd-a0ab-911c078f735a"
      },
      "outputs": [
        {
          "name": "stdout",
          "output_type": "stream",
          "text": [
            "+-------+--------------+-----------+----------------+---------------+----------------+-----------------+------------------+-------------------+------------------+\n",
            "|summary|      Order ID|Customer ID|        Place ID|     Product ID|        Sales ID|            Sales|          Quantity|           Discount|              Cost|\n",
            "+-------+--------------+-----------+----------------+---------------+----------------+-----------------+------------------+-------------------+------------------+\n",
            "|  count|            15|         15|              15|             15|              15|               15|                15|                 15|                15|\n",
            "|   mean|          null|       null|             8.0|           null|             8.0|364430.4666666667|464.46666666666664|0.17666666805744172| 356578.5333333333|\n",
            "| stddev|          null|       null|4.47213595499958|           null|4.47213595499958|302766.7691896724| 186.4694025711406| 0.2161899532903425|303317.09231520793|\n",
            "|    min|CA-2014-105893|   AA-10480|               1|FUR-BO-10001798|               1|            95700|               200|                0.0|             90000|\n",
            "|    max|US-2017-156909|   ZD-21925|              15|TEC-PH-10002275|              15|           911424|               900|                0.8|            908500|\n",
            "+-------+--------------+-----------+----------------+---------------+----------------+-----------------+------------------+-------------------+------------------+\n",
            "\n"
          ]
        }
      ],
      "source": [
        "sale.describe().show()"
      ]
    },
    {
      "cell_type": "code",
      "execution_count": 25,
      "metadata": {
        "colab": {
          "base_uri": "https://localhost:8080/"
        },
        "id": "gMJILJJll-FZ",
        "outputId": "6a85eeac-97c9-452c-c8f7-3cc6bb7539d0"
      },
      "outputs": [
        {
          "name": "stdout",
          "output_type": "stream",
          "text": [
            "['Place ID', 'City', 'State']\n"
          ]
        }
      ],
      "source": [
        "print(region.columns)"
      ]
    },
    {
      "cell_type": "code",
      "execution_count": 26,
      "metadata": {
        "colab": {
          "base_uri": "https://localhost:8080/"
        },
        "id": "VPdIH0Bem4gK",
        "outputId": "bf256e2d-f0df-40a9-9fd0-2c99115c9c35"
      },
      "outputs": [
        {
          "data": {
            "text/plain": [
              "{'Order ID': 0,\n",
              " 'Customer ID': 0,\n",
              " 'Place ID': 0,\n",
              " 'Product ID': 0,\n",
              " 'Sales ID': 0,\n",
              " 'Sales': 0,\n",
              " 'Quantity': 0,\n",
              " 'Discount': 0,\n",
              " 'Cost': 0}"
            ]
          },
          "execution_count": 26,
          "metadata": {},
          "output_type": "execute_result"
        }
      ],
      "source": [
        "SaleCheckNullDict = {col:sale.filter(sale[col].isNull()).count() for col in sale.columns}\n",
        "SaleCheckNullDict"
      ]
    },
    {
      "cell_type": "code",
      "execution_count": 27,
      "metadata": {
        "colab": {
          "base_uri": "https://localhost:8080/"
        },
        "id": "OUsVuKJKnHFj",
        "outputId": "b236edc0-c17d-4cfb-f551-3999547e4059"
      },
      "outputs": [
        {
          "data": {
            "text/plain": [
              "{'Customer ID': 0, 'Customer Name': 0}"
            ]
          },
          "execution_count": 27,
          "metadata": {},
          "output_type": "execute_result"
        }
      ],
      "source": [
        "customerCheckNullDict = {col:customer.filter(customer[col].isNull()).count() for col in customer.columns}\n",
        "customerCheckNullDict"
      ]
    },
    {
      "cell_type": "code",
      "execution_count": 28,
      "metadata": {
        "colab": {
          "base_uri": "https://localhost:8080/"
        },
        "id": "D4pHebBrnRal",
        "outputId": "c07386e0-9611-43b1-bfdb-025bacf766ef"
      },
      "outputs": [
        {
          "data": {
            "text/plain": [
              "{'Order ID': 0, 'Order Date': 0}"
            ]
          },
          "execution_count": 28,
          "metadata": {},
          "output_type": "execute_result"
        }
      ],
      "source": [
        "orderCheckNullDict = {col:order.filter(order[col].isNull()).count() for col in order.columns}\n",
        "orderCheckNullDict"
      ]
    },
    {
      "cell_type": "code",
      "execution_count": 29,
      "metadata": {
        "colab": {
          "base_uri": "https://localhost:8080/"
        },
        "id": "h-zhYkfnnYSJ",
        "outputId": "d1ec90a8-bd91-4e0c-cab0-53593505e994"
      },
      "outputs": [
        {
          "data": {
            "text/plain": [
              "{'Product ID': 0, 'Category': 0, 'Sub-Category': 0, 'Product Name': 0}"
            ]
          },
          "execution_count": 29,
          "metadata": {},
          "output_type": "execute_result"
        }
      ],
      "source": [
        "productCheckNullDict = {col:product.filter(product[col].isNull()).count() for col in product.columns}\n",
        "productCheckNullDict"
      ]
    },
    {
      "cell_type": "code",
      "execution_count": 31,
      "metadata": {
        "colab": {
          "base_uri": "https://localhost:8080/"
        },
        "id": "hjKIhnQonf8k",
        "outputId": "ebacd162-d0c9-44ce-b926-01373d4cf4b6"
      },
      "outputs": [
        {
          "data": {
            "text/plain": [
              "{'Place ID': 0, 'City': 0, 'State': 0}"
            ]
          },
          "execution_count": 31,
          "metadata": {},
          "output_type": "execute_result"
        }
      ],
      "source": [
        "regionCheckNullDict = {col:region.filter(region[col].isNull()).count() for col in region.columns}\n",
        "regionCheckNullDict"
      ]
    },
    {
      "cell_type": "markdown",
      "metadata": {
        "id": "ZjtzGtS2pMSf"
      },
      "source": [
        "# Create a DataFrame from Input Information"
      ]
    },
    {
      "cell_type": "code",
      "execution_count": 38,
      "metadata": {
        "colab": {
          "base_uri": "https://localhost:8080/"
        },
        "id": "33FPwaklpQe_",
        "outputId": "581e2715-0911-4959-85dd-1a523a6b2c62"
      },
      "outputs": [
        {
          "name": "stdout",
          "output_type": "stream",
          "text": [
            "root\n",
            " |-- name: struct (nullable = true)\n",
            " |    |-- firstname: string (nullable = true)\n",
            " |    |-- middlename: string (nullable = true)\n",
            " |    |-- lastname: string (nullable = true)\n",
            " |-- languages: array (nullable = true)\n",
            " |    |-- element: string (containsNull = true)\n",
            " |-- state: string (nullable = true)\n",
            " |-- gender: string (nullable = true)\n",
            "\n",
            "+--------------------+------------------+-----+------+\n",
            "|                name|         languages|state|gender|\n",
            "+--------------------+------------------+-----+------+\n",
            "|    {James, , Smith}|[Java, Scala, C++]|   OH|     M|\n",
            "|      {Anna, Rose, }|[Spark, Java, C++]|   NY|     F|\n",
            "| {Julia, , Williams}|      [CSharp, VB]|   OH|     F|\n",
            "|{Maria, Anne, Jones}|      [CSharp, VB]|   NY|     M|\n",
            "|  {Jen, Mary, Brown}|      [CSharp, VB]|   NY|     M|\n",
            "|{Mike, Mary, Will...|      [Python, VB]|   OH|     M|\n",
            "+--------------------+------------------+-----+------+\n",
            "\n"
          ]
        }
      ],
      "source": [
        "from pyspark.sql.types import StructType,StructField \n",
        "from pyspark.sql.types import StringType, IntegerType, ArrayType\n",
        "data = [\n",
        "    ((\"James\",\"\",\"Smith\"),[\"Java\",\"Scala\",\"C++\"],\"OH\",\"M\"),\n",
        "    ((\"Anna\",\"Rose\",\"\"),[\"Spark\",\"Java\",\"C++\"],\"NY\",\"F\"),\n",
        "    ((\"Julia\",\"\",\"Williams\"),[\"CSharp\",\"VB\"],\"OH\",\"F\"),\n",
        "    ((\"Maria\",\"Anne\",\"Jones\"),[\"CSharp\",\"VB\"],\"NY\",\"M\"),\n",
        "    ((\"Jen\",\"Mary\",\"Brown\"),[\"CSharp\",\"VB\"],\"NY\",\"M\"),\n",
        "    ((\"Mike\",\"Mary\",\"Williams\"),[\"Python\",\"VB\"],\"OH\",\"M\")\n",
        " ]\n",
        "        \n",
        "schema = StructType([\n",
        "     StructField('name', StructType([\n",
        "        StructField('firstname', StringType(), True),\n",
        "        StructField('middlename', StringType(), True),\n",
        "         StructField('lastname', StringType(), True)\n",
        "     ])),\n",
        "     StructField('languages', ArrayType(StringType()), True),\n",
        "     StructField('state', StringType(), True),\n",
        "     StructField('gender', StringType(), True)\n",
        " ])\n",
        "\n",
        "df = spark.createDataFrame(data = data, schema = schema)\n",
        "df.printSchema()\n",
        "df.show()"
      ]
    },
    {
      "cell_type": "markdown",
      "metadata": {
        "id": "3jbXYFO5mDrw"
      },
      "source": [
        "# SQL : SELECT ... FROM ... WHERE ... ORDER BY "
      ]
    },
    {
      "cell_type": "code",
      "execution_count": 46,
      "metadata": {
        "colab": {
          "base_uri": "https://localhost:8080/"
        },
        "id": "HvwP77R0oN-J",
        "outputId": "47a9dbb4-c475-4e9e-f777-63b240288e20"
      },
      "outputs": [
        {
          "name": "stdout",
          "output_type": "stream",
          "text": [
            "+--------------+-----------+--------+---------------+--------+------+--------+--------+------+\n",
            "|      Order ID|Customer ID|Place ID|     Product ID|Sales ID| Sales|Quantity|Discount|  Cost|\n",
            "+--------------+-----------+--------+---------------+--------+------+--------+--------+------+\n",
            "|CA-2016-152156|   CG-12520|       1|FUR-BO-10001798|       1|122261|     200|     0.0|120000|\n",
            "|CA-2016-138688|   WG-45983|       2|FUR-CH-10000454|       2|173100|     389|     0.0|170000|\n",
            "|US-2015-108966|   DV-13045|       3|OFF-LA-10000240|       3| 98652|     422|     0.0| 92000|\n",
            "|CA-2014-115812|   SO-20335|       4|FUR-TA-10000577|       4| 95700|     501|    0.45| 90000|\n",
            "|CA-2017-114412|   BH-11710|       5|FUR-FU-10001487|       5|223682|     290|     0.2|215000|\n",
            "|CA-2016-161389|   AA-10480|       6|TEC-PH-10002275|       6|488600|     720|     0.0|485000|\n",
            "|US-2015-118983|   IM-15070|       7|OFF-BI-10002215|       7|728202|     450|     0.0|728202|\n",
            "|CA-2014-105893|   HP-14815|       8|OFF-AP-10001492|       8|907152|     650|     0.2|890000|\n",
            "|CA-2014-167164|   PK-19075|       9|FUR-CH-10002774|       9|180504|     320|     0.2|170000|\n",
            "|CA-2014-143336|   AG-10270|      10|FUR-TA-10000577|      10|114900|     560|     0.0|108900|\n",
            "|CA-2014-143452|   ZD-21925|      11|TEC-AC-10003027|      11|170684|     900|     0.2|150000|\n",
            "|CA-2016-137330|   KB-16585|      12|FUR-BO-10004834|      12|911424|     410|     0.2|908500|\n",
            "|US-2016-137330|   SF-20065|      13|FUR-FU-10004848|      13|155520|     305|     0.2|140000|\n",
            "|US-2017-156909|   EB-13870|      14|OFF-EN-10001509|      14|407976|     310|     0.2|400976|\n",
            "|CA-2015-106320|    RV-8346|      15|OFF-AR-10004042|      15|688100|     540|     0.8|680100|\n",
            "+--------------+-----------+--------+---------------+--------+------+--------+--------+------+\n",
            "\n"
          ]
        }
      ],
      "source": [
        "sale.show()"
      ]
    },
    {
      "cell_type": "code",
      "execution_count": 53,
      "metadata": {
        "colab": {
          "base_uri": "https://localhost:8080/"
        },
        "id": "n8TgVltSmObh",
        "outputId": "fa5a11d0-bd50-4d62-dab0-9a7d493df8c0"
      },
      "outputs": [
        {
          "name": "stdout",
          "output_type": "stream",
          "text": [
            "+--------------+-----------+--------+---------------+--------+------+--------+--------+------+\n",
            "|      Order ID|Customer ID|Place ID|     Product ID|Sales ID| Sales|Quantity|Discount|  Cost|\n",
            "+--------------+-----------+--------+---------------+--------+------+--------+--------+------+\n",
            "|CA-2016-161389|   AA-10480|       6|TEC-PH-10002275|       6|488600|     720|     0.0|485000|\n",
            "+--------------+-----------+--------+---------------+--------+------+--------+--------+------+\n",
            "\n",
            "+--------------+-----------+--------+---------------+--------+------+--------+--------+------+\n",
            "|      Order ID|Customer ID|Place ID|     Product ID|Sales ID| Sales|Quantity|Discount|  Cost|\n",
            "+--------------+-----------+--------+---------------+--------+------+--------+--------+------+\n",
            "|CA-2016-161389|   AA-10480|       6|TEC-PH-10002275|       6|488600|     720|     0.0|485000|\n",
            "+--------------+-----------+--------+---------------+--------+------+--------+--------+------+\n",
            "\n"
          ]
        }
      ],
      "source": [
        "from pyspark.sql.functions import col\n",
        "result1 = sale.filter(col(\"Customer ID\") == \"AA-10480\")\n",
        "result1.show()\n",
        "\n",
        "sale.createOrReplaceTempView(\"sale\")\n",
        "sqlQuery = \"\"\"\n",
        "  SELECT * \n",
        "  FROM sale \n",
        "  WHERE `Customer ID` = 'AA-10480'\n",
        "\"\"\"\n",
        "result2 = spark.sql(sqlQuery)\n",
        "result2.show()"
      ]
    },
    {
      "cell_type": "code",
      "execution_count": 74,
      "metadata": {
        "colab": {
          "base_uri": "https://localhost:8080/"
        },
        "id": "dWkEsN9wwUqh",
        "outputId": "2cb94318-6516-439f-ff7c-1b5231ca0cff"
      },
      "outputs": [
        {
          "name": "stdout",
          "output_type": "stream",
          "text": [
            "+-----------+--------------+---------------+------+--------+--------+----------+\n",
            "|Customer ID|      Order ID|     Product ID| Sales|Quantity|Discount|Cost (USD)|\n",
            "+-----------+--------------+---------------+------+--------+--------+----------+\n",
            "|   CG-12520|CA-2016-152156|FUR-BO-10001798|122261|     200|     0.0|    120000|\n",
            "|   WG-45983|CA-2016-138688|FUR-CH-10000454|173100|     389|     0.0|    170000|\n",
            "|   SO-20335|CA-2014-115812|FUR-TA-10000577| 95700|     501|    0.45|     90000|\n",
            "|   BH-11710|CA-2017-114412|FUR-FU-10001487|223682|     290|     0.2|    215000|\n",
            "|   PK-19075|CA-2014-167164|FUR-CH-10002774|180504|     320|     0.2|    170000|\n",
            "|   AG-10270|CA-2014-143336|FUR-TA-10000577|114900|     560|     0.0|    108900|\n",
            "|   KB-16585|CA-2016-137330|FUR-BO-10004834|911424|     410|     0.2|    908500|\n",
            "|   SF-20065|US-2016-137330|FUR-FU-10004848|155520|     305|     0.2|    140000|\n",
            "+-----------+--------------+---------------+------+--------+--------+----------+\n",
            "\n",
            "+-----------+--------------+---------------+------+--------+--------+----------+\n",
            "|Customer ID|      Order ID|     Product ID| Sales|Quantity|Discount|Cost (USD)|\n",
            "+-----------+--------------+---------------+------+--------+--------+----------+\n",
            "|   CG-12520|CA-2016-152156|FUR-BO-10001798|122261|     200|     0.0|    120000|\n",
            "|   WG-45983|CA-2016-138688|FUR-CH-10000454|173100|     389|     0.0|    170000|\n",
            "|   SO-20335|CA-2014-115812|FUR-TA-10000577| 95700|     501|    0.45|     90000|\n",
            "|   BH-11710|CA-2017-114412|FUR-FU-10001487|223682|     290|     0.2|    215000|\n",
            "|   PK-19075|CA-2014-167164|FUR-CH-10002774|180504|     320|     0.2|    170000|\n",
            "|   AG-10270|CA-2014-143336|FUR-TA-10000577|114900|     560|     0.0|    108900|\n",
            "|   KB-16585|CA-2016-137330|FUR-BO-10004834|911424|     410|     0.2|    908500|\n",
            "|   SF-20065|US-2016-137330|FUR-FU-10004848|155520|     305|     0.2|    140000|\n",
            "+-----------+--------------+---------------+------+--------+--------+----------+\n",
            "\n"
          ]
        }
      ],
      "source": [
        "result1 = sale.filter(col(\"Product ID\").contains(\"FUR\"))\n",
        "result1 = result1.select('Customer ID', 'Order ID', 'Product ID', 'Sales', 'Quantity', 'Discount', col(\"Cost\").alias(\"Cost (USD)\"))\n",
        "result1.show()\n",
        "\n",
        "sale.createOrReplaceTempView(\"sale\")\n",
        "sqlQuery = \"\"\"\n",
        "  SELECT `Customer ID`, `Order ID`, `Product ID`, Sales, Quantity, Discount, Cost AS `Cost (USD)`\n",
        "  FROM sale \n",
        "  WHERE `Product ID` LIKE 'FUR%'\n",
        "\"\"\"\n",
        "result2 = spark.sql(sqlQuery)\n",
        "result2.show()"
      ]
    },
    {
      "cell_type": "code",
      "execution_count": 100,
      "metadata": {
        "colab": {
          "base_uri": "https://localhost:8080/"
        },
        "id": "imzBHaLmzjhs",
        "outputId": "23570bd1-3a79-45b5-fcd0-72ecc0bd81d7"
      },
      "outputs": [
        {
          "name": "stdout",
          "output_type": "stream",
          "text": [
            "+--------------+-----------+--------+---------------+--------+------+--------+--------+------+\n",
            "|      Order ID|Customer ID|Place ID|     Product ID|Sales ID| Sales|Quantity|Discount|  Cost|\n",
            "+--------------+-----------+--------+---------------+--------+------+--------+--------+------+\n",
            "|CA-2016-152156|   CG-12520|       1|FUR-BO-10001798|       1|122261|     200|     0.0|120000|\n",
            "|CA-2016-138688|   WG-45983|       2|FUR-CH-10000454|       2|173100|     389|     0.0|170000|\n",
            "|US-2015-108966|   DV-13045|       3|OFF-LA-10000240|       3| 98652|     422|     0.0| 92000|\n",
            "|CA-2014-115812|   SO-20335|       4|FUR-TA-10000577|       4| 95700|     501|    0.45| 90000|\n",
            "|CA-2017-114412|   BH-11710|       5|FUR-FU-10001487|       5|223682|     290|     0.2|215000|\n",
            "|CA-2016-161389|   AA-10480|       6|TEC-PH-10002275|       6|488600|     720|     0.0|485000|\n",
            "|US-2015-118983|   IM-15070|       7|OFF-BI-10002215|       7|728202|     450|     0.0|728202|\n",
            "|CA-2014-105893|   HP-14815|       8|OFF-AP-10001492|       8|907152|     650|     0.2|890000|\n",
            "|CA-2014-167164|   PK-19075|       9|FUR-CH-10002774|       9|180504|     320|     0.2|170000|\n",
            "|CA-2014-143336|   AG-10270|      10|FUR-TA-10000577|      10|114900|     560|     0.0|108900|\n",
            "|CA-2014-143452|   ZD-21925|      11|TEC-AC-10003027|      11|170684|     900|     0.2|150000|\n",
            "|CA-2016-137330|   KB-16585|      12|FUR-BO-10004834|      12|911424|     410|     0.2|908500|\n",
            "|US-2016-137330|   SF-20065|      13|FUR-FU-10004848|      13|155520|     305|     0.2|140000|\n",
            "|US-2017-156909|   EB-13870|      14|OFF-EN-10001509|      14|407976|     310|     0.2|400976|\n",
            "|CA-2015-106320|    RV-8346|      15|OFF-AR-10004042|      15|688100|     540|     0.8|680100|\n",
            "+--------------+-----------+--------+---------------+--------+------+--------+--------+------+\n",
            "\n"
          ]
        }
      ],
      "source": [
        "sale.show()"
      ]
    },
    {
      "cell_type": "code",
      "execution_count": 120,
      "metadata": {
        "colab": {
          "base_uri": "https://localhost:8080/"
        },
        "id": "C0nhCyV1zWq_",
        "outputId": "d00021da-c98e-4dec-bfae-4000af414816"
      },
      "outputs": [
        {
          "name": "stdout",
          "output_type": "stream",
          "text": [
            "+-----------+--------------+-----------------+---------------+------+--------+--------+------+\n",
            "|Customer ID|      Order ID|Year From OrderID|     Product ID| Sales|Quantity|Discount|  Cost|\n",
            "+-----------+--------------+-----------------+---------------+------+--------+--------+------+\n",
            "|   AA-10480|CA-2016-161389|             2016|TEC-PH-10002275|488600|     720|     0.0|485000|\n",
            "|   WG-45983|CA-2016-138688|             2016|FUR-CH-10000454|173100|     389|     0.0|170000|\n",
            "|   CG-12520|CA-2016-152156|             2016|FUR-BO-10001798|122261|     200|     0.0|120000|\n",
            "+-----------+--------------+-----------------+---------------+------+--------+--------+------+\n",
            "\n",
            "+-----------+--------------+-----------------+---------------+------+--------+--------+------+\n",
            "|Customer ID|      Order ID|Year From OrderID|     Product ID| Sales|Quantity|Discount|  Cost|\n",
            "+-----------+--------------+-----------------+---------------+------+--------+--------+------+\n",
            "|   AA-10480|CA-2016-161389|             2016|TEC-PH-10002275|488600|     720|     0.0|485000|\n",
            "|   WG-45983|CA-2016-138688|             2016|FUR-CH-10000454|173100|     389|     0.0|170000|\n",
            "|   CG-12520|CA-2016-152156|             2016|FUR-BO-10001798|122261|     200|     0.0|120000|\n",
            "+-----------+--------------+-----------------+---------------+------+--------+--------+------+\n",
            "\n",
            "root\n",
            " |-- Customer ID: string (nullable = true)\n",
            " |-- Order ID: string (nullable = true)\n",
            " |-- Year From OrderID: integer (nullable = true)\n",
            " |-- Product ID: string (nullable = true)\n",
            " |-- Sales: integer (nullable = true)\n",
            " |-- Quantity: integer (nullable = true)\n",
            " |-- Discount: float (nullable = true)\n",
            " |-- Cost: integer (nullable = true)\n",
            "\n"
          ]
        }
      ],
      "source": [
        "from pyspark.sql.functions import *\n",
        "import pyspark.sql.functions as f\n",
        "\n",
        "result1 = sale.withColumn('Year From OrderID', f.split(sale['Order ID'], '-')[1])\n",
        "result1 = result1.withColumn(\"Year From OrderID\", result1[\"Year From OrderID\"].cast(IntegerType()))\n",
        "result1 = result1.select('Customer ID', 'Order ID', 'Year From OrderID', 'Product ID', 'Sales', 'Quantity', 'Discount', \"Cost\")\n",
        "result1 = result1.filter((col(\"Year From OrderID\") == 2016) & (col('Discount') == 0))\n",
        "result1 = result1.orderBy(col(\"Cost\").desc())\n",
        "result1.show()\n",
        "\n",
        "\n",
        "sale.createOrReplaceTempView(\"sale\")\n",
        "sqlQuery = \"\"\"\n",
        "  SELECT  `Customer ID`, `Order ID`, \n",
        "          CAST(substring(`Order ID`, instr(`Order ID`, '-') + 1, 4) AS int) AS `Year From OrderID`, \n",
        "          `Product ID`, Sales, Quantity, Discount, Cost\n",
        "  FROM sale\n",
        "  WHERE substring(`Order ID`, instr(`Order ID`, '-') + 1, 4) = '2016' AND Discount = 0\n",
        "  ORDER BY Cost DESC \n",
        "\"\"\"\n",
        "result2 = spark.sql(sqlQuery)\n",
        "result2.show()\n",
        "result2.printSchema()"
      ]
    },
    {
      "cell_type": "markdown",
      "metadata": {
        "id": "rpXP89dpHMjy"
      },
      "source": [
        "# SQL : SELECT ... JOIN ... GROUP BY ... HAVING "
      ]
    },
    {
      "cell_type": "code",
      "execution_count": 123,
      "metadata": {
        "colab": {
          "base_uri": "https://localhost:8080/"
        },
        "id": "w8IOwvKqHiNp",
        "outputId": "c65d1fbb-4f90-42c6-e73d-af57e20d4221"
      },
      "outputs": [
        {
          "name": "stdout",
          "output_type": "stream",
          "text": [
            "+--------------+-----------+--------+---------------+--------+------+--------+--------+------+\n",
            "|      Order ID|Customer ID|Place ID|     Product ID|Sales ID| Sales|Quantity|Discount|  Cost|\n",
            "+--------------+-----------+--------+---------------+--------+------+--------+--------+------+\n",
            "|CA-2016-152156|   CG-12520|       1|FUR-BO-10001798|       1|122261|     200|     0.0|120000|\n",
            "|CA-2016-138688|   WG-45983|       2|FUR-CH-10000454|       2|173100|     389|     0.0|170000|\n",
            "|US-2015-108966|   DV-13045|       3|OFF-LA-10000240|       3| 98652|     422|     0.0| 92000|\n",
            "|CA-2014-115812|   SO-20335|       4|FUR-TA-10000577|       4| 95700|     501|    0.45| 90000|\n",
            "|CA-2017-114412|   BH-11710|       5|FUR-FU-10001487|       5|223682|     290|     0.2|215000|\n",
            "|CA-2016-161389|   AA-10480|       6|TEC-PH-10002275|       6|488600|     720|     0.0|485000|\n",
            "|US-2015-118983|   IM-15070|       7|OFF-BI-10002215|       7|728202|     450|     0.0|728202|\n",
            "|CA-2014-105893|   HP-14815|       8|OFF-AP-10001492|       8|907152|     650|     0.2|890000|\n",
            "|CA-2014-167164|   PK-19075|       9|FUR-CH-10002774|       9|180504|     320|     0.2|170000|\n",
            "|CA-2014-143336|   AG-10270|      10|FUR-TA-10000577|      10|114900|     560|     0.0|108900|\n",
            "|CA-2014-143452|   ZD-21925|      11|TEC-AC-10003027|      11|170684|     900|     0.2|150000|\n",
            "|CA-2016-137330|   KB-16585|      12|FUR-BO-10004834|      12|911424|     410|     0.2|908500|\n",
            "|US-2016-137330|   SF-20065|      13|FUR-FU-10004848|      13|155520|     305|     0.2|140000|\n",
            "|US-2017-156909|   EB-13870|      14|OFF-EN-10001509|      14|407976|     310|     0.2|400976|\n",
            "|CA-2015-106320|    RV-8346|      15|OFF-AR-10004042|      15|688100|     540|     0.8|680100|\n",
            "+--------------+-----------+--------+---------------+--------+------+--------+--------+------+\n",
            "\n"
          ]
        }
      ],
      "source": [
        "sale.show()"
      ]
    },
    {
      "cell_type": "code",
      "execution_count": 131,
      "metadata": {
        "colab": {
          "base_uri": "https://localhost:8080/",
          "height": 124
        },
        "id": "YiaeOjpFJEiO",
        "outputId": "c56e723d-2e57-4396-e6c9-e918ce81e17f"
      },
      "outputs": [
        {
          "data": {
            "text/plain": [
              "DataFrame[Customer ID: string, Customer Name: string]"
            ]
          },
          "metadata": {},
          "output_type": "display_data"
        },
        {
          "data": {
            "text/plain": [
              "DataFrame[Product ID: string, Category: string, Sub-Category: string, Product Name: string]"
            ]
          },
          "metadata": {},
          "output_type": "display_data"
        },
        {
          "data": {
            "text/plain": [
              "DataFrame[Order ID: string, Order Date: date]"
            ]
          },
          "metadata": {},
          "output_type": "display_data"
        },
        {
          "data": {
            "text/plain": [
              "DataFrame[Order ID: string, Customer ID: string, Place ID: int, Product ID: string, Sales ID: int, Sales: int, Quantity: int, Discount: float, Cost: int]"
            ]
          },
          "metadata": {},
          "output_type": "display_data"
        },
        {
          "data": {
            "text/plain": [
              "DataFrame[Place ID: int, City: string, State: string]"
            ]
          },
          "metadata": {},
          "output_type": "display_data"
        }
      ],
      "source": [
        "display(customer)\n",
        "display(product)\n",
        "display(order)\n",
        "display(sale)\n",
        "display(region)"
      ]
    },
    {
      "cell_type": "code",
      "execution_count": 130,
      "metadata": {
        "id": "IxkAoNcQIe0e"
      },
      "outputs": [],
      "source": [
        "sale.createOrReplaceTempView(\"sale\")\n",
        "customer.createOrReplaceTempView(\"customer\")\n",
        "order.createOrReplaceTempView(\"order\")\n",
        "region.createOrReplaceTempView(\"region\")\n",
        "product.createOrReplaceTempView(\"product\")"
      ]
    },
    {
      "cell_type": "code",
      "execution_count": 139,
      "metadata": {
        "colab": {
          "base_uri": "https://localhost:8080/"
        },
        "id": "wYEkLJBxKD7-",
        "outputId": "284fc772-a1c6-42f8-9d02-6421ea203161"
      },
      "outputs": [
        {
          "name": "stdout",
          "output_type": "stream",
          "text": [
            "+---------------+---------------+------------+--------------------+\n",
            "|     Product ID|       Category|Sub-Category|        Product Name|\n",
            "+---------------+---------------+------------+--------------------+\n",
            "|FUR-BO-10001798|      Furniture|   Bookcases|Bush Somerset Col...|\n",
            "|FUR-CH-10000454|      Furniture|      Chairs|Hon Deluxe Fabric...|\n",
            "|OFF-LA-10000240|Office Supplies|      Labels|Self-Adhesive Add...|\n",
            "|FUR-TA-10000577|      Furniture|      Tables|Bretford CR4500 S...|\n",
            "|FUR-FU-10001487|      Furniture| Furnishings|Eldon Expressions...|\n",
            "|TEC-PH-10002275|     Technology|      Phones|Mitel 5320 IP Pho...|\n",
            "|OFF-BI-10002215|Office Supplies|     Binders|Wilson Jones Hang...|\n",
            "|OFF-AP-10001492|Office Supplies|  Appliances|Acco Six-Outlet P...|\n",
            "|FUR-CH-10002774|      Furniture|      Chairs|Global Deluxe Sta...|\n",
            "|FUR-TA-10000577|      Furniture|      Tables|Bretford CR4500 S...|\n",
            "|TEC-AC-10003027|     Technology| Accessories|Imation 8GB Mini ...|\n",
            "|FUR-BO-10004834|      Furniture|   Bookcases|Riverside Palais ...|\n",
            "|FUR-FU-10004848|      Furniture| Furnishings|\"Howard Miller 13...|\n",
            "|OFF-EN-10001509|Office Supplies|   Envelopes|Poly String Tie E...|\n",
            "|OFF-AR-10004042|Office Supplies|         Art|BOSTON Model 1800...|\n",
            "+---------------+---------------+------------+--------------------+\n",
            "\n"
          ]
        }
      ],
      "source": [
        "product.show()"
      ]
    },
    {
      "cell_type": "code",
      "execution_count": 159,
      "metadata": {
        "colab": {
          "base_uri": "https://localhost:8080/"
        },
        "id": "dHRjm5k2Li1s",
        "outputId": "4d116987-93b9-4bca-e1e8-1da38a70b876"
      },
      "outputs": [
        {
          "name": "stdout",
          "output_type": "stream",
          "text": [
            "+---------------+-----------+--------------+-------+--------+------+--------+--------+------+----------+------------------+---------------+------------+--------------------+-------------+--------------+\n",
            "|     Product ID|Customer ID|      Order ID|PlaceID|Sales ID| Sales|Quantity|Discount|  Cost|Order Date|     Customer Name|       Category|Sub-Category|        Product Name|         City|         State|\n",
            "+---------------+-----------+--------------+-------+--------+------+--------+--------+------+----------+------------------+---------------+------------+--------------------+-------------+--------------+\n",
            "|FUR-BO-10001798|   CG-12520|CA-2016-152156|      1|       1|122261|     200|     0.0|120000|2017-11-08|       Claire Gute|      Furniture|   Bookcases|Bush Somerset Col...|    Henderson|      Kentucky|\n",
            "|FUR-CH-10000454|   WG-45983|CA-2016-138688|      2|       2|173100|     389|     0.0|170000|2017-06-12|      Henry Stalin|      Furniture|      Chairs|Hon Deluxe Fabric...|  Los Angeles|    California|\n",
            "|OFF-LA-10000240|   DV-13045|US-2015-108966|      3|       3| 98652|     422|     0.0| 92000|2019-01-11|   Darrin Van Huff|Office Supplies|      Labels|Self-Adhesive Add...|  Los Angeles|    California|\n",
            "|FUR-TA-10000577|   SO-20335|CA-2014-115812|      4|       4| 95700|     501|    0.45| 90000|2019-05-09|    Sean O'Donnell|      Furniture|      Tables|Bretford CR4500 S...|      Concord|North Carolina|\n",
            "|FUR-TA-10000577|   SO-20335|CA-2014-115812|      4|       4| 95700|     501|    0.45| 90000|2019-05-09|    Sean O'Donnell|      Furniture|      Tables|Bretford CR4500 S...|      Concord|North Carolina|\n",
            "|FUR-FU-10001487|   BH-11710|CA-2017-114412|      5|       5|223682|     290|     0.2|215000|2017-04-15|   Brosina Hoffman|      Furniture| Furnishings|Eldon Expressions...|      Seattle|    Washington|\n",
            "|TEC-PH-10002275|   AA-10480|CA-2016-161389|      6|       6|488600|     720|     0.0|485000|2017-12-05|      Andrew Allen|     Technology|      Phones|Mitel 5320 IP Pho...|   Fort Worth|         Texas|\n",
            "|OFF-BI-10002215|   IM-15070|US-2015-118983|      7|       7|728202|     450|     0.0|728202|2018-11-22|      Irene Maddox|Office Supplies|     Binders|Wilson Jones Hang...|      Madison|     Wisconsin|\n",
            "|OFF-AP-10001492|   HP-14815|CA-2014-105893|      8|       8|907152|     650|     0.2|890000|2018-11-11|     Harold Pawlan|Office Supplies|  Appliances|Acco Six-Outlet P...|  West Jordan|          Utah|\n",
            "|FUR-CH-10002774|   PK-19075|CA-2014-167164|      9|       9|180504|     320|     0.2|170000|2018-05-13|         Pete Kriz|      Furniture|      Chairs|Global Deluxe Sta...|San Francisco|    California|\n",
            "|FUR-TA-10000577|   AG-10270|CA-2014-143336|     10|      10|114900|     560|     0.0|108900|2018-08-27|   Alejandro Grove|      Furniture|      Tables|Bretford CR4500 S...|      Fremont|      Nebraska|\n",
            "|FUR-TA-10000577|   AG-10270|CA-2014-143336|     10|      10|114900|     560|     0.0|108900|2018-08-27|   Alejandro Grove|      Furniture|      Tables|Bretford CR4500 S...|      Fremont|      Nebraska|\n",
            "|TEC-AC-10003027|   ZD-21925|CA-2014-143452|     11|      11|170684|     900|     0.2|150000|2019-02-20|Zuschuss Donatelli|     Technology| Accessories|Imation 8GB Mini ...|      Fremont|      Nebraska|\n",
            "|FUR-BO-10004834|   KB-16585|CA-2016-137330|     12|      12|911424|     410|     0.2|908500|2018-12-09|         Ken Black|      Furniture|   Bookcases|Riverside Palais ...| Philadelphia|  Pennsylvania|\n",
            "|FUR-FU-10004848|   SF-20065|US-2016-137330|     13|      13|155520|     305|     0.2|140000|2017-12-20|   Sandra Flanagan|      Furniture| Furnishings|\"Howard Miller 13...|         Orem|          Utah|\n",
            "|OFF-EN-10001509|   EB-13870|US-2017-156909|     14|      14|407976|     310|     0.2|400976|2018-07-16|       Emily Burns|Office Supplies|   Envelopes|Poly String Tie E...|  Los Angeles|    California|\n",
            "|OFF-AR-10004042|    RV-8346|CA-2015-106320|     15|      15|688100|     540|     0.8|680100|2019-04-25|        Matt Damon|Office Supplies|         Art|BOSTON Model 1800...| Philadelphia|  Pennsylvania|\n",
            "+---------------+-----------+--------------+-------+--------+------+--------+--------+------+----------+------------------+---------------+------------+--------------------+-------------+--------------+\n",
            "\n"
          ]
        }
      ],
      "source": [
        "result1 = sale.join(order, on=\"Order ID\")\n",
        "result1 = result1.join(customer, on=\"Customer ID\")\n",
        "result1 = result1.join(product, on=\"Product ID\")\n",
        "\n",
        "result1 = result1.withColumnRenamed(\"Place ID\", \"PlaceID\")\n",
        "region1 = region.withColumnRenamed(\"Place ID\", \"Place_ID\")\n",
        "result1 = result1.join(region1,result1.PlaceID == region1.Place_ID,\"inner\").drop(region1.Place_ID)\n",
        "\n",
        "result1.show()"
      ]
    },
    {
      "cell_type": "code",
      "execution_count": 143,
      "metadata": {
        "colab": {
          "base_uri": "https://localhost:8080/"
        },
        "id": "ZrNCQYVFHFd-",
        "outputId": "f7e357a7-c9a9-4027-ade8-53226514c360"
      },
      "outputs": [
        {
          "name": "stdout",
          "output_type": "stream",
          "text": [
            "+--------------+----------+-----------+------------------+---------------+---------------+------------+--------------------+--------+-------------+--------------+------+--------+--------+------+\n",
            "|      Order ID|Order Date|Customer ID|     Customer Name|     Product ID|       Category|Sub-Category|        Product Name|Place ID|         City|         State| Sales|Quantity|Discount|  Cost|\n",
            "+--------------+----------+-----------+------------------+---------------+---------------+------------+--------------------+--------+-------------+--------------+------+--------+--------+------+\n",
            "|CA-2016-152156|2017-11-08|   CG-12520|       Claire Gute|FUR-BO-10001798|      Furniture|   Bookcases|Bush Somerset Col...|       1|    Henderson|      Kentucky|122261|     200|     0.0|120000|\n",
            "|CA-2016-138688|2017-06-12|   WG-45983|      Henry Stalin|FUR-CH-10000454|      Furniture|      Chairs|Hon Deluxe Fabric...|       2|  Los Angeles|    California|173100|     389|     0.0|170000|\n",
            "|US-2015-108966|2019-01-11|   DV-13045|   Darrin Van Huff|OFF-LA-10000240|Office Supplies|      Labels|Self-Adhesive Add...|       3|  Los Angeles|    California| 98652|     422|     0.0| 92000|\n",
            "|CA-2014-115812|2019-05-09|   SO-20335|    Sean O'Donnell|FUR-TA-10000577|      Furniture|      Tables|Bretford CR4500 S...|       4|      Concord|North Carolina| 95700|     501|    0.45| 90000|\n",
            "|CA-2014-115812|2019-05-09|   SO-20335|    Sean O'Donnell|FUR-TA-10000577|      Furniture|      Tables|Bretford CR4500 S...|       4|      Concord|North Carolina| 95700|     501|    0.45| 90000|\n",
            "|CA-2017-114412|2017-04-15|   BH-11710|   Brosina Hoffman|FUR-FU-10001487|      Furniture| Furnishings|Eldon Expressions...|       5|      Seattle|    Washington|223682|     290|     0.2|215000|\n",
            "|CA-2016-161389|2017-12-05|   AA-10480|      Andrew Allen|TEC-PH-10002275|     Technology|      Phones|Mitel 5320 IP Pho...|       6|   Fort Worth|         Texas|488600|     720|     0.0|485000|\n",
            "|US-2015-118983|2018-11-22|   IM-15070|      Irene Maddox|OFF-BI-10002215|Office Supplies|     Binders|Wilson Jones Hang...|       7|      Madison|     Wisconsin|728202|     450|     0.0|728202|\n",
            "|CA-2014-105893|2018-11-11|   HP-14815|     Harold Pawlan|OFF-AP-10001492|Office Supplies|  Appliances|Acco Six-Outlet P...|       8|  West Jordan|          Utah|907152|     650|     0.2|890000|\n",
            "|CA-2014-167164|2018-05-13|   PK-19075|         Pete Kriz|FUR-CH-10002774|      Furniture|      Chairs|Global Deluxe Sta...|       9|San Francisco|    California|180504|     320|     0.2|170000|\n",
            "|CA-2014-143336|2018-08-27|   AG-10270|   Alejandro Grove|FUR-TA-10000577|      Furniture|      Tables|Bretford CR4500 S...|      10|      Fremont|      Nebraska|114900|     560|     0.0|108900|\n",
            "|CA-2014-143336|2018-08-27|   AG-10270|   Alejandro Grove|FUR-TA-10000577|      Furniture|      Tables|Bretford CR4500 S...|      10|      Fremont|      Nebraska|114900|     560|     0.0|108900|\n",
            "|CA-2014-143452|2019-02-20|   ZD-21925|Zuschuss Donatelli|TEC-AC-10003027|     Technology| Accessories|Imation 8GB Mini ...|      11|      Fremont|      Nebraska|170684|     900|     0.2|150000|\n",
            "|CA-2016-137330|2018-12-09|   KB-16585|         Ken Black|FUR-BO-10004834|      Furniture|   Bookcases|Riverside Palais ...|      12| Philadelphia|  Pennsylvania|911424|     410|     0.2|908500|\n",
            "|US-2016-137330|2017-12-20|   SF-20065|   Sandra Flanagan|FUR-FU-10004848|      Furniture| Furnishings|\"Howard Miller 13...|      13|         Orem|          Utah|155520|     305|     0.2|140000|\n",
            "|US-2017-156909|2018-07-16|   EB-13870|       Emily Burns|OFF-EN-10001509|Office Supplies|   Envelopes|Poly String Tie E...|      14|  Los Angeles|    California|407976|     310|     0.2|400976|\n",
            "|CA-2015-106320|2019-04-25|    RV-8346|        Matt Damon|OFF-AR-10004042|Office Supplies|         Art|BOSTON Model 1800...|      15| Philadelphia|  Pennsylvania|688100|     540|     0.8|680100|\n",
            "+--------------+----------+-----------+------------------+---------------+---------------+------------+--------------------+--------+-------------+--------------+------+--------+--------+------+\n",
            "\n",
            "root\n",
            " |-- Order ID: string (nullable = true)\n",
            " |-- Order Date: date (nullable = true)\n",
            " |-- Customer ID: string (nullable = true)\n",
            " |-- Customer Name: string (nullable = true)\n",
            " |-- Product ID: string (nullable = true)\n",
            " |-- Category: string (nullable = true)\n",
            " |-- Sub-Category: string (nullable = true)\n",
            " |-- Product Name: string (nullable = true)\n",
            " |-- Place ID: integer (nullable = true)\n",
            " |-- City: string (nullable = true)\n",
            " |-- State: string (nullable = true)\n",
            " |-- Sales: integer (nullable = true)\n",
            " |-- Quantity: integer (nullable = true)\n",
            " |-- Discount: float (nullable = true)\n",
            " |-- Cost: integer (nullable = true)\n",
            "\n"
          ]
        }
      ],
      "source": [
        "sqlQuery = \"\"\"\n",
        "  SELECT  sale.`Order ID`, order.`Order Date`,\n",
        "          sale.`Customer ID`, customer.`Customer Name`,\n",
        "          sale.`Product ID`, product.Category, product.`Sub-Category`, product.`Product Name`,\n",
        "          sale.`Place ID`, region.City, region.State,\n",
        "          sale.Sales, \n",
        "          sale.Quantity, \n",
        "          sale.Discount, \n",
        "          sale.Cost\n",
        "  FROM sale\n",
        "  INNER JOIN order ON sale.`Order ID` = order.`Order ID`\n",
        "  INNER JOIN customer ON sale.`Customer ID` = customer.`Customer ID`\n",
        "  INNER JOIN product ON sale.`Product ID` = product.`Product ID`\n",
        "  INNER JOIN region ON sale.`Place ID` = region.`Place ID`\n",
        "\"\"\"\n",
        "result2 = spark.sql(sqlQuery)\n",
        "result2.show()\n",
        "result2.printSchema()"
      ]
    },
    {
      "cell_type": "code",
      "execution_count": 168,
      "metadata": {
        "colab": {
          "base_uri": "https://localhost:8080/"
        },
        "id": "7svca9mgRxB1",
        "outputId": "4f2e9862-a110-4723-c700-1d0dd7583363"
      },
      "outputs": [
        {
          "name": "stdout",
          "output_type": "stream",
          "text": [
            "+---------------+-----------+--------------+-------+--------+------+--------+--------+------+----------+------------------+---------------+------------+--------------------+-------------+--------------+\n",
            "|     Product ID|Customer ID|      Order ID|PlaceID|Sales ID| Sales|Quantity|Discount|  Cost|Order Date|     Customer Name|       Category|Sub-Category|        Product Name|         City|         State|\n",
            "+---------------+-----------+--------------+-------+--------+------+--------+--------+------+----------+------------------+---------------+------------+--------------------+-------------+--------------+\n",
            "|FUR-BO-10001798|   CG-12520|CA-2016-152156|      1|       1|122261|     200|     0.0|120000|2017-11-08|       Claire Gute|      Furniture|   Bookcases|Bush Somerset Col...|    Henderson|      Kentucky|\n",
            "|FUR-CH-10000454|   WG-45983|CA-2016-138688|      2|       2|173100|     389|     0.0|170000|2017-06-12|      Henry Stalin|      Furniture|      Chairs|Hon Deluxe Fabric...|  Los Angeles|    California|\n",
            "|OFF-LA-10000240|   DV-13045|US-2015-108966|      3|       3| 98652|     422|     0.0| 92000|2019-01-11|   Darrin Van Huff|Office Supplies|      Labels|Self-Adhesive Add...|  Los Angeles|    California|\n",
            "|FUR-TA-10000577|   SO-20335|CA-2014-115812|      4|       4| 95700|     501|    0.45| 90000|2019-05-09|    Sean O'Donnell|      Furniture|      Tables|Bretford CR4500 S...|      Concord|North Carolina|\n",
            "|FUR-TA-10000577|   SO-20335|CA-2014-115812|      4|       4| 95700|     501|    0.45| 90000|2019-05-09|    Sean O'Donnell|      Furniture|      Tables|Bretford CR4500 S...|      Concord|North Carolina|\n",
            "|FUR-FU-10001487|   BH-11710|CA-2017-114412|      5|       5|223682|     290|     0.2|215000|2017-04-15|   Brosina Hoffman|      Furniture| Furnishings|Eldon Expressions...|      Seattle|    Washington|\n",
            "|TEC-PH-10002275|   AA-10480|CA-2016-161389|      6|       6|488600|     720|     0.0|485000|2017-12-05|      Andrew Allen|     Technology|      Phones|Mitel 5320 IP Pho...|   Fort Worth|         Texas|\n",
            "|OFF-BI-10002215|   IM-15070|US-2015-118983|      7|       7|728202|     450|     0.0|728202|2018-11-22|      Irene Maddox|Office Supplies|     Binders|Wilson Jones Hang...|      Madison|     Wisconsin|\n",
            "|OFF-AP-10001492|   HP-14815|CA-2014-105893|      8|       8|907152|     650|     0.2|890000|2018-11-11|     Harold Pawlan|Office Supplies|  Appliances|Acco Six-Outlet P...|  West Jordan|          Utah|\n",
            "|FUR-CH-10002774|   PK-19075|CA-2014-167164|      9|       9|180504|     320|     0.2|170000|2018-05-13|         Pete Kriz|      Furniture|      Chairs|Global Deluxe Sta...|San Francisco|    California|\n",
            "|FUR-TA-10000577|   AG-10270|CA-2014-143336|     10|      10|114900|     560|     0.0|108900|2018-08-27|   Alejandro Grove|      Furniture|      Tables|Bretford CR4500 S...|      Fremont|      Nebraska|\n",
            "|FUR-TA-10000577|   AG-10270|CA-2014-143336|     10|      10|114900|     560|     0.0|108900|2018-08-27|   Alejandro Grove|      Furniture|      Tables|Bretford CR4500 S...|      Fremont|      Nebraska|\n",
            "|TEC-AC-10003027|   ZD-21925|CA-2014-143452|     11|      11|170684|     900|     0.2|150000|2019-02-20|Zuschuss Donatelli|     Technology| Accessories|Imation 8GB Mini ...|      Fremont|      Nebraska|\n",
            "|FUR-BO-10004834|   KB-16585|CA-2016-137330|     12|      12|911424|     410|     0.2|908500|2018-12-09|         Ken Black|      Furniture|   Bookcases|Riverside Palais ...| Philadelphia|  Pennsylvania|\n",
            "|FUR-FU-10004848|   SF-20065|US-2016-137330|     13|      13|155520|     305|     0.2|140000|2017-12-20|   Sandra Flanagan|      Furniture| Furnishings|\"Howard Miller 13...|         Orem|          Utah|\n",
            "|OFF-EN-10001509|   EB-13870|US-2017-156909|     14|      14|407976|     310|     0.2|400976|2018-07-16|       Emily Burns|Office Supplies|   Envelopes|Poly String Tie E...|  Los Angeles|    California|\n",
            "|OFF-AR-10004042|    RV-8346|CA-2015-106320|     15|      15|688100|     540|     0.8|680100|2019-04-25|        Matt Damon|Office Supplies|         Art|BOSTON Model 1800...| Philadelphia|  Pennsylvania|\n",
            "+---------------+-----------+--------------+-------+--------+------+--------+--------+------+----------+------------------+---------------+------------+--------------------+-------------+--------------+\n",
            "\n"
          ]
        }
      ],
      "source": [
        "result1.show()"
      ]
    },
    {
      "cell_type": "code",
      "execution_count": 186,
      "metadata": {
        "colab": {
          "base_uri": "https://localhost:8080/"
        },
        "id": "Oz-eg16AF_Qb",
        "outputId": "112653c2-893b-4553-d04e-2ea23bd618ee"
      },
      "outputs": [
        {
          "name": "stdout",
          "output_type": "stream",
          "text": [
            "+---------------+-----------+--------------+-------+--------+------+--------+--------+------+----------+------------------+---------------+------------+--------------------+-------------+--------------+---------+---------+\n",
            "|     Product ID|Customer ID|      Order ID|PlaceID|Sales ID| Sales|Quantity|Discount|  Cost|Order Date|     Customer Name|       Category|Sub-Category|        Product Name|         City|         State|  Revenue|   Profit|\n",
            "+---------------+-----------+--------------+-------+--------+------+--------+--------+------+----------+------------------+---------------+------------+--------------------+-------------+--------------+---------+---------+\n",
            "|FUR-BO-10001798|   CG-12520|CA-2016-152156|      1|       1|122261|     200|     0.0|120000|2017-11-08|       Claire Gute|      Furniture|   Bookcases|Bush Somerset Col...|    Henderson|      Kentucky| 24452200| 24332200|\n",
            "|FUR-CH-10000454|   WG-45983|CA-2016-138688|      2|       2|173100|     389|     0.0|170000|2017-06-12|      Henry Stalin|      Furniture|      Chairs|Hon Deluxe Fabric...|  Los Angeles|    California| 67335900| 67165900|\n",
            "|OFF-LA-10000240|   DV-13045|US-2015-108966|      3|       3| 98652|     422|     0.0| 92000|2019-01-11|   Darrin Van Huff|Office Supplies|      Labels|Self-Adhesive Add...|  Los Angeles|    California| 41631144| 41539144|\n",
            "|FUR-TA-10000577|   SO-20335|CA-2014-115812|      4|       4| 95700|     501|    0.45| 90000|2019-05-09|    Sean O'Donnell|      Furniture|      Tables|Bretford CR4500 S...|      Concord|North Carolina| 47945700| 47855700|\n",
            "|FUR-TA-10000577|   SO-20335|CA-2014-115812|      4|       4| 95700|     501|    0.45| 90000|2019-05-09|    Sean O'Donnell|      Furniture|      Tables|Bretford CR4500 S...|      Concord|North Carolina| 47945700| 47855700|\n",
            "|FUR-FU-10001487|   BH-11710|CA-2017-114412|      5|       5|223682|     290|     0.2|215000|2017-04-15|   Brosina Hoffman|      Furniture| Furnishings|Eldon Expressions...|      Seattle|    Washington| 64867780| 64652780|\n",
            "|TEC-PH-10002275|   AA-10480|CA-2016-161389|      6|       6|488600|     720|     0.0|485000|2017-12-05|      Andrew Allen|     Technology|      Phones|Mitel 5320 IP Pho...|   Fort Worth|         Texas|351792000|351307000|\n",
            "|OFF-BI-10002215|   IM-15070|US-2015-118983|      7|       7|728202|     450|     0.0|728202|2018-11-22|      Irene Maddox|Office Supplies|     Binders|Wilson Jones Hang...|      Madison|     Wisconsin|327690900|326962698|\n",
            "|OFF-AP-10001492|   HP-14815|CA-2014-105893|      8|       8|907152|     650|     0.2|890000|2018-11-11|     Harold Pawlan|Office Supplies|  Appliances|Acco Six-Outlet P...|  West Jordan|          Utah|589648800|588758800|\n",
            "|FUR-CH-10002774|   PK-19075|CA-2014-167164|      9|       9|180504|     320|     0.2|170000|2018-05-13|         Pete Kriz|      Furniture|      Chairs|Global Deluxe Sta...|San Francisco|    California| 57761280| 57591280|\n",
            "|FUR-TA-10000577|   AG-10270|CA-2014-143336|     10|      10|114900|     560|     0.0|108900|2018-08-27|   Alejandro Grove|      Furniture|      Tables|Bretford CR4500 S...|      Fremont|      Nebraska| 64344000| 64235100|\n",
            "|FUR-TA-10000577|   AG-10270|CA-2014-143336|     10|      10|114900|     560|     0.0|108900|2018-08-27|   Alejandro Grove|      Furniture|      Tables|Bretford CR4500 S...|      Fremont|      Nebraska| 64344000| 64235100|\n",
            "|TEC-AC-10003027|   ZD-21925|CA-2014-143452|     11|      11|170684|     900|     0.2|150000|2019-02-20|Zuschuss Donatelli|     Technology| Accessories|Imation 8GB Mini ...|      Fremont|      Nebraska|153615600|153465600|\n",
            "|FUR-BO-10004834|   KB-16585|CA-2016-137330|     12|      12|911424|     410|     0.2|908500|2018-12-09|         Ken Black|      Furniture|   Bookcases|Riverside Palais ...| Philadelphia|  Pennsylvania|373683840|372775340|\n",
            "|FUR-FU-10004848|   SF-20065|US-2016-137330|     13|      13|155520|     305|     0.2|140000|2017-12-20|   Sandra Flanagan|      Furniture| Furnishings|\"Howard Miller 13...|         Orem|          Utah| 47433600| 47293600|\n",
            "|OFF-EN-10001509|   EB-13870|US-2017-156909|     14|      14|407976|     310|     0.2|400976|2018-07-16|       Emily Burns|Office Supplies|   Envelopes|Poly String Tie E...|  Los Angeles|    California|126472560|126071584|\n",
            "|OFF-AR-10004042|    RV-8346|CA-2015-106320|     15|      15|688100|     540|     0.8|680100|2019-04-25|        Matt Damon|Office Supplies|         Art|BOSTON Model 1800...| Philadelphia|  Pennsylvania|371574000|370893900|\n",
            "+---------------+-----------+--------------+-------+--------+------+--------+--------+------+----------+------------------+---------------+------------+--------------------+-------------+--------------+---------+---------+\n",
            "\n",
            "+------------+------------+-------------+----------+---------+---------------+-----------+\n",
            "|        City|       State|sum(Quantity)|sum(Sales)|sum(Cost)|count(Category)|avg(Profit)|\n",
            "+------------+------------+-------------+----------+---------+---------------+-----------+\n",
            "|     Fremont|    Nebraska|         2020|    400484|   367800|              2|  9.39786E7|\n",
            "| Los Angeles|  California|         1121|    679728|   662976|              2|7.8258876E7|\n",
            "|Philadelphia|Pennsylvania|          950|   1599524|  1588600|              2|3.7183462E8|\n",
            "+------------+------------+-------------+----------+---------+---------------+-----------+\n",
            "\n"
          ]
        }
      ],
      "source": [
        "result1A = result1.withColumn(\"Revenue\", col(\"Quantity\") * col(\"Sales\"))\n",
        "result1A = result1A.withColumn(\"Profit\", col(\"Revenue\") - col(\"Cost\"))\n",
        "result1A.show()\n",
        "\n",
        "result1B = result1A.groupBy(\"City\",\"State\") \\\n",
        "                 .agg(sum(\"Quantity\"),sum(\"Sales\"), sum(\"Cost\"), countDistinct('Category'), avg(\"Profit\")) \n",
        "result1B = result1B.filter(col(\"count(Category)\") >= 2)\n",
        "result1B.show()"
      ]
    },
    {
      "cell_type": "code",
      "execution_count": 194,
      "metadata": {
        "colab": {
          "base_uri": "https://localhost:8080/"
        },
        "id": "srKDHXn2U1dg",
        "outputId": "c230e835-84ac-4475-d72b-cc07ba1f0703"
      },
      "outputs": [
        {
          "name": "stdout",
          "output_type": "stream",
          "text": [
            "+------------+------------+-------------+---------+-------------+-----------+\n",
            "|        City|       State|sum(Quantity)|sum(Cost)|NumOfCategory|AVGOfProfit|\n",
            "+------------+------------+-------------+---------+-------------+-----------+\n",
            "|     Fremont|    Nebraska|         2020|   367800|            2|  9.39786E7|\n",
            "| Los Angeles|  California|         1121|   662976|            2|7.8258876E7|\n",
            "|Philadelphia|Pennsylvania|          950|  1588600|            2|3.7183462E8|\n",
            "+------------+------------+-------------+---------+-------------+-----------+\n",
            "\n",
            "root\n",
            " |-- City: string (nullable = true)\n",
            " |-- State: string (nullable = true)\n",
            " |-- sum(Quantity): long (nullable = true)\n",
            " |-- sum(Cost): long (nullable = true)\n",
            " |-- NumOfCategory: long (nullable = false)\n",
            " |-- AVGOfProfit: double (nullable = true)\n",
            "\n"
          ]
        }
      ],
      "source": [
        "result2.createOrReplaceTempView(\"result2\")\n",
        "\n",
        "sqlQuery = \"\"\"\n",
        "  SELECT  City, State, \n",
        "          SUM(Quantity), SUM(Cost), \n",
        "          COUNT(DISTINCT Category) AS NumOfCategory,\n",
        "          AVG(Quantity * Sales - Cost) AS AVGOfProfit\n",
        "  FROM result2\n",
        "  GROUP BY City, State\n",
        "  HAVING COUNT(DISTINCT Category) >= 2\n",
        "\"\"\"\n",
        "result3 = spark.sql(sqlQuery)\n",
        "result3.show()\n",
        "result3.printSchema()"
      ]
    }
  ],
  "metadata": {
    "colab": {
      "collapsed_sections": [],
      "provenance": []
    },
    "kernelspec": {
      "display_name": "Python 3",
      "name": "python3"
    },
    "language_info": {
      "name": "python"
    }
  },
  "nbformat": 4,
  "nbformat_minor": 0
}
