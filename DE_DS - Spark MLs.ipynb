{
  "cells": [
    {
      "cell_type": "code",
      "source": [
        "pip install pyspark"
      ],
      "metadata": {
        "colab": {
          "base_uri": "https://localhost:8080/"
        },
        "id": "1388kTWiSOJj",
        "outputId": "81df9cfd-b8a2-4168-f424-889f30a570ca"
      },
      "execution_count": 21,
      "outputs": [
        {
          "output_type": "stream",
          "name": "stdout",
          "text": [
            "Looking in indexes: https://pypi.org/simple, https://us-python.pkg.dev/colab-wheels/public/simple/\n",
            "Requirement already satisfied: pyspark in /usr/local/lib/python3.7/dist-packages (3.3.0)\n",
            "Requirement already satisfied: py4j==0.10.9.5 in /usr/local/lib/python3.7/dist-packages (from pyspark) (0.10.9.5)\n"
          ]
        }
      ]
    },
    {
      "cell_type": "code",
      "source": [
        "from google.colab import drive\n",
        "drive.mount('/content/drive')"
      ],
      "metadata": {
        "colab": {
          "base_uri": "https://localhost:8080/"
        },
        "id": "dqTcYdaZSwEE",
        "outputId": "778bfb85-bfbd-4f86-81db-d3dd1a18af41"
      },
      "execution_count": 23,
      "outputs": [
        {
          "output_type": "stream",
          "name": "stdout",
          "text": [
            "Drive already mounted at /content/drive; to attempt to forcibly remount, call drive.mount(\"/content/drive\", force_remount=True).\n"
          ]
        }
      ]
    },
    {
      "cell_type": "code",
      "source": [
        "import os\n",
        "path = \"/content/drive/MyDrive/BIBA Research AI\"\n",
        "os.chdir(path)"
      ],
      "metadata": {
        "id": "0MiHiD4gStd9"
      },
      "execution_count": 24,
      "outputs": []
    },
    {
      "cell_type": "code",
      "source": [
        "os.listdir()"
      ],
      "metadata": {
        "colab": {
          "base_uri": "https://localhost:8080/"
        },
        "id": "mYOjJ7L8TIIA",
        "outputId": "b636f3aa-5c7f-49f3-9b07-ce347a544468"
      },
      "execution_count": 25,
      "outputs": [
        {
          "output_type": "execute_result",
          "data": {
            "text/plain": [
              "['SPAM text message 20170820 - Data.csv',\n",
              " 'jewellery.csv',\n",
              " 'PyCaret (AutoML).ipynb',\n",
              " 'xgboost_powerbi.pkl',\n",
              " 'catboost_powerbi.pkl',\n",
              " 'Machine Learning in Power BI using PyCaret.docx',\n",
              " 'PyCaret Tutorial.html',\n",
              " 'PyCaret (AutoML).html',\n",
              " 'anomaly.csv',\n",
              " 'kiva.csv',\n",
              " 'france.csv',\n",
              " 'employee.csv',\n",
              " 'boston.csv',\n",
              " 'MLs in PowerBI.pbix',\n",
              " 'Pycaret Tutorial v2.ipynb',\n",
              " 'jewellery_clustering.csv',\n",
              " 'anomaly_detecting.csv',\n",
              " 'kiva_topic_clustering.csv',\n",
              " 'nmf_results.csv',\n",
              " 'lda_results.csv',\n",
              " 'employee_result.csv',\n",
              " 'price_model.h5.pkl',\n",
              " 'price_result.csv',\n",
              " 'kiva_result.csv',\n",
              " 'civa_model.h5.pkl',\n",
              " 'spam_model.h5.pkl',\n",
              " 'spam_result.csv',\n",
              " 'Association_result.csv',\n",
              " 'employee_model.h5.pkl',\n",
              " 'PyCaret Tutorial.ipynb',\n",
              " 'logs.log',\n",
              " 'PySpark.ipynb',\n",
              " 'Pyspark-With-Python-main',\n",
              " 'Copy of flights-larger.csv',\n",
              " 'AI Specialist 04 (Spark Classification).ipynb',\n",
              " 'College.csv']"
            ]
          },
          "metadata": {},
          "execution_count": 25
        }
      ]
    },
    {
      "cell_type": "markdown",
      "source": [
        "# Regression in PySpark"
      ],
      "metadata": {
        "id": "IzW_b6X8bUzB"
      }
    },
    {
      "cell_type": "code",
      "source": [
        "from pyspark import SparkConf, SparkContext\n",
        "from pyspark.sql import SQLContext\n",
        "from pyspark.sql import SparkSession\n",
        "\n",
        "spark = SparkSession.builder.master('local[*]').appName('house').getOrCreate()\n",
        "house_df = spark.read.csv('boston.csv', sep=',', header=True, inferSchema=True,\n",
        "                         nullValue='NA')\n",
        "\n",
        "house_df.show(5)"
      ],
      "metadata": {
        "colab": {
          "base_uri": "https://localhost:8080/"
        },
        "id": "oo8QNdpbbYIs",
        "outputId": "387df653-5f41-4941-ff43-c3c674a311d3"
      },
      "execution_count": 28,
      "outputs": [
        {
          "output_type": "stream",
          "name": "stdout",
          "text": [
            "+-----------+----+-----------+----+-----------+-----------+-----------+-----------+---+---+-----------+-----------+-----------+-----------+\n",
            "|       CRIM|  ZN|      INDUS|CHAS|        NOX|         RM|        AGE|        DIS|RAD|TAX|         PT|          B|      LSTAT|         MV|\n",
            "+-----------+----+-----------+----+-----------+-----------+-----------+-----------+---+---+-----------+-----------+-----------+-----------+\n",
            "|    0.00632|18.0|2.309999943|   0|0.537999988|6.574999809|65.19999695|4.090000153|  1|296|15.30000019|396.8999939|4.980000019|       24.0|\n",
            "|0.027310001| 0.0|7.070000172|   0|0.469000012|6.421000004|78.90000153|4.967100143|  2|242|17.79999924|396.8999939|9.140000343|21.60000038|\n",
            "|    0.02729| 0.0|7.070000172|   0|0.469000012|7.184999943|61.09999847|4.967100143|  2|242|17.79999924|392.8299866| 4.03000021|34.70000076|\n",
            "|0.032370001| 0.0|2.180000067|   0|0.458000004|6.998000145|45.79999924|6.062200069|  3|222|18.70000076|394.6300049|2.940000057|33.40000153|\n",
            "|0.069049999| 0.0|2.180000067|   0|0.458000004|7.146999836|54.20000076|6.062200069|  3|222|18.70000076|396.8999939|5.329999924|36.20000076|\n",
            "+-----------+----+-----------+----+-----------+-----------+-----------+-----------+---+---+-----------+-----------+-----------+-----------+\n",
            "only showing top 5 rows\n",
            "\n"
          ]
        }
      ]
    },
    {
      "cell_type": "code",
      "source": [
        "house_df.cache()\n",
        "house_df.printSchema()"
      ],
      "metadata": {
        "colab": {
          "base_uri": "https://localhost:8080/"
        },
        "id": "bYcyrTIgdFQS",
        "outputId": "a82ada81-b499-4493-ef9b-9a2c59f91cbc"
      },
      "execution_count": 29,
      "outputs": [
        {
          "output_type": "stream",
          "name": "stdout",
          "text": [
            "root\n",
            " |-- CRIM: double (nullable = true)\n",
            " |-- ZN: double (nullable = true)\n",
            " |-- INDUS: double (nullable = true)\n",
            " |-- CHAS: integer (nullable = true)\n",
            " |-- NOX: double (nullable = true)\n",
            " |-- RM: double (nullable = true)\n",
            " |-- AGE: double (nullable = true)\n",
            " |-- DIS: double (nullable = true)\n",
            " |-- RAD: integer (nullable = true)\n",
            " |-- TAX: integer (nullable = true)\n",
            " |-- PT: double (nullable = true)\n",
            " |-- B: double (nullable = true)\n",
            " |-- LSTAT: double (nullable = true)\n",
            " |-- MV: double (nullable = true)\n",
            "\n"
          ]
        }
      ]
    },
    {
      "cell_type": "code",
      "source": [
        "house_df.describe().toPandas().transpose()"
      ],
      "metadata": {
        "colab": {
          "base_uri": "https://localhost:8080/",
          "height": 520
        },
        "id": "s5kgRrJRdLBt",
        "outputId": "4d8f095e-9f55-4697-9b6d-c97cad84e339"
      },
      "execution_count": 30,
      "outputs": [
        {
          "output_type": "execute_result",
          "data": {
            "text/plain": [
              "             0                   1                   2            3  \\\n",
              "summary  count                mean              stddev          min   \n",
              "CRIM       506  3.6135235608162057   8.601545086715594      0.00632   \n",
              "ZN         506  11.363636363636363   23.32245299451514          0.0   \n",
              "INDUS      506  11.136778749531626    6.86035298095724  0.460000008   \n",
              "CHAS       506  0.0691699604743083  0.2539940413404101            0   \n",
              "NOX        506  0.5546950602312246  0.1158776754570543   0.38499999   \n",
              "RM         506    6.28463438896641  0.7026171549511354  3.561000109   \n",
              "AGE        506   68.57490120115612  28.148861532793276  2.900000095   \n",
              "DIS        506  3.7950426960059325   2.105710142043288  1.129600048   \n",
              "RAD        506   9.549407114624506   8.707259384239366            1   \n",
              "TAX        506   408.2371541501976  168.53711605495903          187   \n",
              "PT         506   18.45553382776679   2.164945780039869  12.60000038   \n",
              "B          506  356.67402960597883   91.29486340272308  0.319999993   \n",
              "LSTAT      506  12.653063233922925   7.141061500195388  1.730000019   \n",
              "MV         506   22.53280636250988   9.197104107945272          5.0   \n",
              "\n",
              "                   4  \n",
              "summary          max  \n",
              "CRIM     88.97619629  \n",
              "ZN             100.0  \n",
              "INDUS    27.73999977  \n",
              "CHAS               1  \n",
              "NOX      0.870999992  \n",
              "RM       8.779999733  \n",
              "AGE            100.0  \n",
              "DIS      12.12650013  \n",
              "RAD               24  \n",
              "TAX              711  \n",
              "PT              22.0  \n",
              "B        396.8999939  \n",
              "LSTAT    37.97000122  \n",
              "MV              50.0  "
            ],
            "text/html": [
              "\n",
              "  <div id=\"df-63b80fbf-572f-45d6-9190-7644652ff77c\">\n",
              "    <div class=\"colab-df-container\">\n",
              "      <div>\n",
              "<style scoped>\n",
              "    .dataframe tbody tr th:only-of-type {\n",
              "        vertical-align: middle;\n",
              "    }\n",
              "\n",
              "    .dataframe tbody tr th {\n",
              "        vertical-align: top;\n",
              "    }\n",
              "\n",
              "    .dataframe thead th {\n",
              "        text-align: right;\n",
              "    }\n",
              "</style>\n",
              "<table border=\"1\" class=\"dataframe\">\n",
              "  <thead>\n",
              "    <tr style=\"text-align: right;\">\n",
              "      <th></th>\n",
              "      <th>0</th>\n",
              "      <th>1</th>\n",
              "      <th>2</th>\n",
              "      <th>3</th>\n",
              "      <th>4</th>\n",
              "    </tr>\n",
              "  </thead>\n",
              "  <tbody>\n",
              "    <tr>\n",
              "      <th>summary</th>\n",
              "      <td>count</td>\n",
              "      <td>mean</td>\n",
              "      <td>stddev</td>\n",
              "      <td>min</td>\n",
              "      <td>max</td>\n",
              "    </tr>\n",
              "    <tr>\n",
              "      <th>CRIM</th>\n",
              "      <td>506</td>\n",
              "      <td>3.6135235608162057</td>\n",
              "      <td>8.601545086715594</td>\n",
              "      <td>0.00632</td>\n",
              "      <td>88.97619629</td>\n",
              "    </tr>\n",
              "    <tr>\n",
              "      <th>ZN</th>\n",
              "      <td>506</td>\n",
              "      <td>11.363636363636363</td>\n",
              "      <td>23.32245299451514</td>\n",
              "      <td>0.0</td>\n",
              "      <td>100.0</td>\n",
              "    </tr>\n",
              "    <tr>\n",
              "      <th>INDUS</th>\n",
              "      <td>506</td>\n",
              "      <td>11.136778749531626</td>\n",
              "      <td>6.86035298095724</td>\n",
              "      <td>0.460000008</td>\n",
              "      <td>27.73999977</td>\n",
              "    </tr>\n",
              "    <tr>\n",
              "      <th>CHAS</th>\n",
              "      <td>506</td>\n",
              "      <td>0.0691699604743083</td>\n",
              "      <td>0.2539940413404101</td>\n",
              "      <td>0</td>\n",
              "      <td>1</td>\n",
              "    </tr>\n",
              "    <tr>\n",
              "      <th>NOX</th>\n",
              "      <td>506</td>\n",
              "      <td>0.5546950602312246</td>\n",
              "      <td>0.1158776754570543</td>\n",
              "      <td>0.38499999</td>\n",
              "      <td>0.870999992</td>\n",
              "    </tr>\n",
              "    <tr>\n",
              "      <th>RM</th>\n",
              "      <td>506</td>\n",
              "      <td>6.28463438896641</td>\n",
              "      <td>0.7026171549511354</td>\n",
              "      <td>3.561000109</td>\n",
              "      <td>8.779999733</td>\n",
              "    </tr>\n",
              "    <tr>\n",
              "      <th>AGE</th>\n",
              "      <td>506</td>\n",
              "      <td>68.57490120115612</td>\n",
              "      <td>28.148861532793276</td>\n",
              "      <td>2.900000095</td>\n",
              "      <td>100.0</td>\n",
              "    </tr>\n",
              "    <tr>\n",
              "      <th>DIS</th>\n",
              "      <td>506</td>\n",
              "      <td>3.7950426960059325</td>\n",
              "      <td>2.105710142043288</td>\n",
              "      <td>1.129600048</td>\n",
              "      <td>12.12650013</td>\n",
              "    </tr>\n",
              "    <tr>\n",
              "      <th>RAD</th>\n",
              "      <td>506</td>\n",
              "      <td>9.549407114624506</td>\n",
              "      <td>8.707259384239366</td>\n",
              "      <td>1</td>\n",
              "      <td>24</td>\n",
              "    </tr>\n",
              "    <tr>\n",
              "      <th>TAX</th>\n",
              "      <td>506</td>\n",
              "      <td>408.2371541501976</td>\n",
              "      <td>168.53711605495903</td>\n",
              "      <td>187</td>\n",
              "      <td>711</td>\n",
              "    </tr>\n",
              "    <tr>\n",
              "      <th>PT</th>\n",
              "      <td>506</td>\n",
              "      <td>18.45553382776679</td>\n",
              "      <td>2.164945780039869</td>\n",
              "      <td>12.60000038</td>\n",
              "      <td>22.0</td>\n",
              "    </tr>\n",
              "    <tr>\n",
              "      <th>B</th>\n",
              "      <td>506</td>\n",
              "      <td>356.67402960597883</td>\n",
              "      <td>91.29486340272308</td>\n",
              "      <td>0.319999993</td>\n",
              "      <td>396.8999939</td>\n",
              "    </tr>\n",
              "    <tr>\n",
              "      <th>LSTAT</th>\n",
              "      <td>506</td>\n",
              "      <td>12.653063233922925</td>\n",
              "      <td>7.141061500195388</td>\n",
              "      <td>1.730000019</td>\n",
              "      <td>37.97000122</td>\n",
              "    </tr>\n",
              "    <tr>\n",
              "      <th>MV</th>\n",
              "      <td>506</td>\n",
              "      <td>22.53280636250988</td>\n",
              "      <td>9.197104107945272</td>\n",
              "      <td>5.0</td>\n",
              "      <td>50.0</td>\n",
              "    </tr>\n",
              "  </tbody>\n",
              "</table>\n",
              "</div>\n",
              "      <button class=\"colab-df-convert\" onclick=\"convertToInteractive('df-63b80fbf-572f-45d6-9190-7644652ff77c')\"\n",
              "              title=\"Convert this dataframe to an interactive table.\"\n",
              "              style=\"display:none;\">\n",
              "        \n",
              "  <svg xmlns=\"http://www.w3.org/2000/svg\" height=\"24px\"viewBox=\"0 0 24 24\"\n",
              "       width=\"24px\">\n",
              "    <path d=\"M0 0h24v24H0V0z\" fill=\"none\"/>\n",
              "    <path d=\"M18.56 5.44l.94 2.06.94-2.06 2.06-.94-2.06-.94-.94-2.06-.94 2.06-2.06.94zm-11 1L8.5 8.5l.94-2.06 2.06-.94-2.06-.94L8.5 2.5l-.94 2.06-2.06.94zm10 10l.94 2.06.94-2.06 2.06-.94-2.06-.94-.94-2.06-.94 2.06-2.06.94z\"/><path d=\"M17.41 7.96l-1.37-1.37c-.4-.4-.92-.59-1.43-.59-.52 0-1.04.2-1.43.59L10.3 9.45l-7.72 7.72c-.78.78-.78 2.05 0 2.83L4 21.41c.39.39.9.59 1.41.59.51 0 1.02-.2 1.41-.59l7.78-7.78 2.81-2.81c.8-.78.8-2.07 0-2.86zM5.41 20L4 18.59l7.72-7.72 1.47 1.35L5.41 20z\"/>\n",
              "  </svg>\n",
              "      </button>\n",
              "      \n",
              "  <style>\n",
              "    .colab-df-container {\n",
              "      display:flex;\n",
              "      flex-wrap:wrap;\n",
              "      gap: 12px;\n",
              "    }\n",
              "\n",
              "    .colab-df-convert {\n",
              "      background-color: #E8F0FE;\n",
              "      border: none;\n",
              "      border-radius: 50%;\n",
              "      cursor: pointer;\n",
              "      display: none;\n",
              "      fill: #1967D2;\n",
              "      height: 32px;\n",
              "      padding: 0 0 0 0;\n",
              "      width: 32px;\n",
              "    }\n",
              "\n",
              "    .colab-df-convert:hover {\n",
              "      background-color: #E2EBFA;\n",
              "      box-shadow: 0px 1px 2px rgba(60, 64, 67, 0.3), 0px 1px 3px 1px rgba(60, 64, 67, 0.15);\n",
              "      fill: #174EA6;\n",
              "    }\n",
              "\n",
              "    [theme=dark] .colab-df-convert {\n",
              "      background-color: #3B4455;\n",
              "      fill: #D2E3FC;\n",
              "    }\n",
              "\n",
              "    [theme=dark] .colab-df-convert:hover {\n",
              "      background-color: #434B5C;\n",
              "      box-shadow: 0px 1px 3px 1px rgba(0, 0, 0, 0.15);\n",
              "      filter: drop-shadow(0px 1px 2px rgba(0, 0, 0, 0.3));\n",
              "      fill: #FFFFFF;\n",
              "    }\n",
              "  </style>\n",
              "\n",
              "      <script>\n",
              "        const buttonEl =\n",
              "          document.querySelector('#df-63b80fbf-572f-45d6-9190-7644652ff77c button.colab-df-convert');\n",
              "        buttonEl.style.display =\n",
              "          google.colab.kernel.accessAllowed ? 'block' : 'none';\n",
              "\n",
              "        async function convertToInteractive(key) {\n",
              "          const element = document.querySelector('#df-63b80fbf-572f-45d6-9190-7644652ff77c');\n",
              "          const dataTable =\n",
              "            await google.colab.kernel.invokeFunction('convertToInteractive',\n",
              "                                                     [key], {});\n",
              "          if (!dataTable) return;\n",
              "\n",
              "          const docLinkHtml = 'Like what you see? Visit the ' +\n",
              "            '<a target=\"_blank\" href=https://colab.research.google.com/notebooks/data_table.ipynb>data table notebook</a>'\n",
              "            + ' to learn more about interactive tables.';\n",
              "          element.innerHTML = '';\n",
              "          dataTable['output_type'] = 'display_data';\n",
              "          await google.colab.output.renderOutput(dataTable, element);\n",
              "          const docLink = document.createElement('div');\n",
              "          docLink.innerHTML = docLinkHtml;\n",
              "          element.appendChild(docLink);\n",
              "        }\n",
              "      </script>\n",
              "    </div>\n",
              "  </div>\n",
              "  "
            ]
          },
          "metadata": {},
          "execution_count": 30
        }
      ]
    },
    {
      "cell_type": "code",
      "source": [
        "import six\n",
        "for i in house_df.columns:\n",
        "    if not( isinstance(house_df.select(i).take(1)[0][0], six.string_types)):\n",
        "        print( \"Correlation to MV for \", i, house_df.stat.corr('MV',i))"
      ],
      "metadata": {
        "colab": {
          "base_uri": "https://localhost:8080/"
        },
        "id": "_EeQotdddQDn",
        "outputId": "1d968477-823b-4b13-d827-8a55694b052f"
      },
      "execution_count": 31,
      "outputs": [
        {
          "output_type": "stream",
          "name": "stdout",
          "text": [
            "Correlation to MV for  CRIM -0.3883046116575088\n",
            "Correlation to MV for  ZN 0.36044534463752903\n",
            "Correlation to MV for  INDUS -0.48372517128143383\n",
            "Correlation to MV for  CHAS 0.17526017775291847\n",
            "Correlation to MV for  NOX -0.4273207763683772\n",
            "Correlation to MV for  RM 0.695359937127267\n",
            "Correlation to MV for  AGE -0.37695456714288667\n",
            "Correlation to MV for  DIS 0.24992873873512172\n",
            "Correlation to MV for  RAD -0.3816262315669168\n",
            "Correlation to MV for  TAX -0.46853593528654536\n",
            "Correlation to MV for  PT -0.5077867038116085\n",
            "Correlation to MV for  B 0.3334608226834164\n",
            "Correlation to MV for  LSTAT -0.7376627294671615\n",
            "Correlation to MV for  MV 1.0\n"
          ]
        }
      ]
    },
    {
      "cell_type": "code",
      "source": [
        "house_df.dtypes"
      ],
      "metadata": {
        "colab": {
          "base_uri": "https://localhost:8080/"
        },
        "id": "uuxtvqtCdUrC",
        "outputId": "b2ebff5a-1b94-42d1-aba4-b559459728f1"
      },
      "execution_count": 32,
      "outputs": [
        {
          "output_type": "execute_result",
          "data": {
            "text/plain": [
              "[('CRIM', 'double'),\n",
              " ('ZN', 'double'),\n",
              " ('INDUS', 'double'),\n",
              " ('CHAS', 'int'),\n",
              " ('NOX', 'double'),\n",
              " ('RM', 'double'),\n",
              " ('AGE', 'double'),\n",
              " ('DIS', 'double'),\n",
              " ('RAD', 'int'),\n",
              " ('TAX', 'int'),\n",
              " ('PT', 'double'),\n",
              " ('B', 'double'),\n",
              " ('LSTAT', 'double'),\n",
              " ('MV', 'double')]"
            ]
          },
          "metadata": {},
          "execution_count": 32
        }
      ]
    },
    {
      "cell_type": "code",
      "source": [
        "from pyspark.ml.feature import VectorAssembler\n",
        "\n",
        "vectorAssembler = VectorAssembler(inputCols = ['CRIM', 'ZN', 'INDUS', 'CHAS', 'NOX', 'RM', 'AGE', 'DIS', 'RAD', 'TAX', 'PT', 'B', 'LSTAT'], outputCol = 'features')\n",
        "vhouse_df = vectorAssembler.transform(house_df)\n",
        "vhouse_df.take(1)"
      ],
      "metadata": {
        "colab": {
          "base_uri": "https://localhost:8080/"
        },
        "id": "J3o2BqSxdY7A",
        "outputId": "d34f5e5e-9e02-4117-fafd-d813c9221be0"
      },
      "execution_count": 34,
      "outputs": [
        {
          "output_type": "execute_result",
          "data": {
            "text/plain": [
              "[Row(CRIM=0.00632, ZN=18.0, INDUS=2.309999943, CHAS=0, NOX=0.537999988, RM=6.574999809, AGE=65.19999695, DIS=4.090000153, RAD=1, TAX=296, PT=15.30000019, B=396.8999939, LSTAT=4.980000019, MV=24.0, features=DenseVector([0.0063, 18.0, 2.31, 0.0, 0.538, 6.575, 65.2, 4.09, 1.0, 296.0, 15.3, 396.9, 4.98]))]"
            ]
          },
          "metadata": {},
          "execution_count": 34
        }
      ]
    },
    {
      "cell_type": "code",
      "source": [
        "vhouse_df = vhouse_df.select(['features', 'MV'])\n",
        "vhouse_df.show(3)"
      ],
      "metadata": {
        "colab": {
          "base_uri": "https://localhost:8080/"
        },
        "id": "maAar-2udf1I",
        "outputId": "5f4aa653-d948-4a74-db3a-bb20daca6ebe"
      },
      "execution_count": 35,
      "outputs": [
        {
          "output_type": "stream",
          "name": "stdout",
          "text": [
            "+--------------------+-----------+\n",
            "|            features|         MV|\n",
            "+--------------------+-----------+\n",
            "|[0.00632,18.0,2.3...|       24.0|\n",
            "|[0.027310001,0.0,...|21.60000038|\n",
            "|[0.02729,0.0,7.07...|34.70000076|\n",
            "+--------------------+-----------+\n",
            "only showing top 3 rows\n",
            "\n"
          ]
        }
      ]
    },
    {
      "cell_type": "code",
      "source": [
        "splits = vhouse_df.randomSplit([0.7, 0.3])\n",
        "train_df = splits[0]\n",
        "test_df = splits[1]"
      ],
      "metadata": {
        "id": "40rlOEPXdilR"
      },
      "execution_count": 36,
      "outputs": []
    },
    {
      "cell_type": "code",
      "source": [
        "from pyspark.ml.regression import LinearRegression\n",
        "\n",
        "lr = LinearRegression(featuresCol = 'features', labelCol='MV', maxIter=10, regParam=0.3, elasticNetParam=0.8)\n",
        "lr_model = lr.fit(train_df)\n",
        "print(\"Coefficients: \" + str(lr_model.coefficients))\n",
        "print(\"Intercept: \" + str(lr_model.intercept))"
      ],
      "metadata": {
        "colab": {
          "base_uri": "https://localhost:8080/"
        },
        "id": "YHJpGjeddjk8",
        "outputId": "c6c67fe3-7678-4612-881a-7094f2331026"
      },
      "execution_count": 37,
      "outputs": [
        {
          "output_type": "stream",
          "name": "stdout",
          "text": [
            "Coefficients: [-0.02159375519988735,0.0006410914759530574,-0.04570043163552191,1.2394290567292614,-2.970358740650904,3.8816489773666305,0.0,-0.5037491085483179,-0.0,0.0,-0.8679013218845767,0.00880370354724123,-0.529667525534478]\n",
            "Intercept: 21.91015000646196\n"
          ]
        }
      ]
    },
    {
      "cell_type": "code",
      "source": [
        "trainingSummary = lr_model.summary\n",
        "print(\"RMSE: %f\" % trainingSummary.rootMeanSquaredError)\n",
        "print(\"r2: %f\" % trainingSummary.r2)"
      ],
      "metadata": {
        "colab": {
          "base_uri": "https://localhost:8080/"
        },
        "id": "zt2TiIxPdnn7",
        "outputId": "128aef90-66a6-4796-c744-7f7616e4898a"
      },
      "execution_count": 38,
      "outputs": [
        {
          "output_type": "stream",
          "name": "stdout",
          "text": [
            "RMSE: 5.175840\n",
            "r2: 0.682469\n"
          ]
        }
      ]
    },
    {
      "cell_type": "markdown",
      "source": [
        "RMSE measures the differences between predicted values by the model and the actual values. However, RMSE alone is meaningless until we compare with the actual \"MV\" value, such as mean, min and max. After such comparison, our RMSE looks pretty good."
      ],
      "metadata": {
        "id": "CuYNBRJldx8g"
      }
    },
    {
      "cell_type": "code",
      "source": [
        "train_df.describe().show()"
      ],
      "metadata": {
        "colab": {
          "base_uri": "https://localhost:8080/"
        },
        "id": "wlMstOTEdq3B",
        "outputId": "f1e8466e-1343-40de-e46f-66a16c8dc459"
      },
      "execution_count": 39,
      "outputs": [
        {
          "output_type": "stream",
          "name": "stdout",
          "text": [
            "+-------+-----------------+\n",
            "|summary|               MV|\n",
            "+-------+-----------------+\n",
            "|  count|              340|\n",
            "|   mean|23.12558827955294|\n",
            "| stddev|9.198725006378575|\n",
            "|    min|              5.0|\n",
            "|    max|             50.0|\n",
            "+-------+-----------------+\n",
            "\n"
          ]
        }
      ]
    },
    {
      "cell_type": "code",
      "source": [
        "lr_predictions = lr_model.transform(test_df)\n",
        "lr_predictions.select(\"prediction\",\"MV\",\"features\").show(5)\n",
        "\n",
        "from pyspark.ml.evaluation import RegressionEvaluator\n",
        "lr_evaluator = RegressionEvaluator(predictionCol=\"prediction\", \\\n",
        "                 labelCol=\"MV\",metricName=\"r2\")\n",
        "print(\"R Squared (R2) on test data = %g\" % lr_evaluator.evaluate(lr_predictions))"
      ],
      "metadata": {
        "colab": {
          "base_uri": "https://localhost:8080/"
        },
        "id": "11mucTbWd5ma",
        "outputId": "8edb565b-95ac-46f0-e5df-cf77c56c31c3"
      },
      "execution_count": 40,
      "outputs": [
        {
          "output_type": "stream",
          "name": "stdout",
          "text": [
            "+------------------+-----------+--------------------+\n",
            "|        prediction|         MV|            features|\n",
            "+------------------+-----------+--------------------+\n",
            "| 39.75511549322627|       50.0|[0.01501,90.0,1.2...|\n",
            "|38.373852445393865|       50.0|[0.020090001,95.0...|\n",
            "| 27.56546735347364|       16.5|[0.024979999,0.0,...|\n",
            "|27.854554870219882|23.89999962|[0.025429999,55.0...|\n",
            "|  31.4559914177867|34.70000076|[0.02729,0.0,7.07...|\n",
            "+------------------+-----------+--------------------+\n",
            "only showing top 5 rows\n",
            "\n",
            "R Squared (R2) on test data = 0.752111\n"
          ]
        }
      ]
    },
    {
      "cell_type": "code",
      "source": [
        "test_result = lr_model.evaluate(test_df)\n",
        "print(\"Root Mean Squared Error (RMSE) on test data = %g\" % test_result.rootMeanSquaredError)"
      ],
      "metadata": {
        "colab": {
          "base_uri": "https://localhost:8080/"
        },
        "id": "N4qCFI9zd7hJ",
        "outputId": "5b79febd-c36e-4887-cc17-2c5ba1f3403b"
      },
      "execution_count": 41,
      "outputs": [
        {
          "output_type": "stream",
          "name": "stdout",
          "text": [
            "Root Mean Squared Error (RMSE) on test data = 4.51766\n"
          ]
        }
      ]
    },
    {
      "cell_type": "code",
      "source": [
        "print(\"numIterations: %d\" % trainingSummary.totalIterations)\n",
        "print(\"objectiveHistory: %s\" % str(trainingSummary.objectiveHistory))\n",
        "trainingSummary.residuals.show()"
      ],
      "metadata": {
        "colab": {
          "base_uri": "https://localhost:8080/"
        },
        "id": "x7Sz65RId_YJ",
        "outputId": "6480bfc2-583f-4ab8-b632-7b63a5059052"
      },
      "execution_count": 42,
      "outputs": [
        {
          "output_type": "stream",
          "name": "stdout",
          "text": [
            "numIterations: 10\n",
            "objectiveHistory: [0.5000000000000004, 0.43432475273126153, 0.249514848724146, 0.22704011899817722, 0.19913651312131248, 0.19582436479904725, 0.19501872798087141, 0.19423214635402136, 0.19345338435290013, 0.19316566087513654, 0.19283885799871817]\n",
            "+--------------------+\n",
            "|           residuals|\n",
            "+--------------------+\n",
            "| -7.2569947801884425|\n",
            "|  1.6859231475974923|\n",
            "|  -5.891057056239173|\n",
            "| 0.47354285434372656|\n",
            "|   5.525560055535749|\n",
            "|  1.8324610516799993|\n",
            "|  12.190972253548765|\n",
            "|  0.3820054478157715|\n",
            "| -1.4817308860054972|\n",
            "|  -3.143297695221989|\n",
            "|   9.677848974164064|\n",
            "|  3.1888163407870245|\n",
            "|  2.0814727201360483|\n",
            "|  -2.944190428754613|\n",
            "|   6.393698499218544|\n",
            "| -0.6039277760328403|\n",
            "| -1.5841685860378654|\n",
            "|   6.206664538403139|\n",
            "|-0.04484659370739763|\n",
            "|  -4.219641035739823|\n",
            "+--------------------+\n",
            "only showing top 20 rows\n",
            "\n"
          ]
        }
      ]
    },
    {
      "cell_type": "code",
      "source": [
        "predictions = lr_model.transform(test_df)\n",
        "predictions.select(\"prediction\",\"MV\",\"features\").show()"
      ],
      "metadata": {
        "colab": {
          "base_uri": "https://localhost:8080/"
        },
        "id": "sHT8rNHKeCMc",
        "outputId": "76c6f21a-72bb-4a01-8359-4010cb175bcb"
      },
      "execution_count": 43,
      "outputs": [
        {
          "output_type": "stream",
          "name": "stdout",
          "text": [
            "+------------------+-----------+--------------------+\n",
            "|        prediction|         MV|            features|\n",
            "+------------------+-----------+--------------------+\n",
            "| 39.75511549322627|       50.0|[0.01501,90.0,1.2...|\n",
            "|38.373852445393865|       50.0|[0.020090001,95.0...|\n",
            "| 27.56546735347364|       16.5|[0.024979999,0.0,...|\n",
            "|27.854554870219882|23.89999962|[0.025429999,55.0...|\n",
            "|  31.4559914177867|34.70000076|[0.02729,0.0,7.07...|\n",
            "| 26.83502094183622|28.70000076|[0.029850001,0.0,...|\n",
            "| 21.20446428765009|       17.5|[0.031129999,0.0,...|\n",
            "| 37.19799060135632|       48.5|[0.035100002,95.0...|\n",
            "|27.659343243887058|       22.0|[0.03537,34.0,6.0...|\n",
            "|28.012468689034648|27.89999962|[0.036150001,80.0...|\n",
            "|  26.2171772288902|23.20000076|[0.038710002,52.5...|\n",
            "|17.308109092919608|18.20000076|[0.04301,80.0,1.9...|\n",
            "|23.854027635729473|19.39999962|[0.043790001,80.0...|\n",
            "|30.772116100243267|24.79999924|[0.04417,70.0,2.2...|\n",
            "|25.047336280962732|19.79999924|[0.04544,0.0,3.24...|\n",
            "|24.236254617173994|23.29999924|[0.045600001,0.0,...|\n",
            "|32.219162667007566|30.29999924|[0.046659999,80.0...|\n",
            "| 22.90083902032472|11.89999962|[0.04741,0.0,11.9...|\n",
            "|21.374816335937766|17.10000038|[0.05023,35.0,6.0...|\n",
            "|28.051036172376804|27.10000038|[0.053720001,0.0,...|\n",
            "+------------------+-----------+--------------------+\n",
            "only showing top 20 rows\n",
            "\n"
          ]
        }
      ]
    },
    {
      "cell_type": "markdown",
      "source": [
        "Decision Tree"
      ],
      "metadata": {
        "id": "Ibg0nw0CeKAr"
      }
    },
    {
      "cell_type": "code",
      "source": [
        "from pyspark.ml.regression import DecisionTreeRegressor\n",
        "\n",
        "dt = DecisionTreeRegressor(featuresCol ='features', labelCol = 'MV')\n",
        "dt_model = dt.fit(train_df)\n",
        "dt_predictions = dt_model.transform(test_df)\n",
        "dt_evaluator = RegressionEvaluator(\n",
        "    labelCol=\"MV\", predictionCol=\"prediction\", metricName=\"rmse\")\n",
        "rmse = dt_evaluator.evaluate(dt_predictions)\n",
        "print(\"Root Mean Squared Error (RMSE) on test data = %g\" % rmse)"
      ],
      "metadata": {
        "colab": {
          "base_uri": "https://localhost:8080/"
        },
        "id": "5a_1qeN0eHqt",
        "outputId": "6eb3db64-c824-42c3-fe4d-2c23b913ce3b"
      },
      "execution_count": 44,
      "outputs": [
        {
          "output_type": "stream",
          "name": "stdout",
          "text": [
            "Root Mean Squared Error (RMSE) on test data = 4.0056\n"
          ]
        }
      ]
    },
    {
      "cell_type": "markdown",
      "source": [
        "Feature Importance"
      ],
      "metadata": {
        "id": "zSyLO6xIeOqY"
      }
    },
    {
      "cell_type": "code",
      "source": [
        "train_df.take(1)"
      ],
      "metadata": {
        "colab": {
          "base_uri": "https://localhost:8080/"
        },
        "id": "Xon88JCsePPx",
        "outputId": "d355fc0d-c161-4eff-f5e9-4e2e3ea9bf6f"
      },
      "execution_count": 45,
      "outputs": [
        {
          "output_type": "execute_result",
          "data": {
            "text/plain": [
              "[Row(features=DenseVector([0.0063, 18.0, 2.31, 0.0, 0.538, 6.575, 65.2, 4.09, 1.0, 296.0, 15.3, 396.9, 4.98]), MV=24.0)]"
            ]
          },
          "metadata": {},
          "execution_count": 45
        }
      ]
    },
    {
      "cell_type": "code",
      "source": [
        "dt_model.featureImportances"
      ],
      "metadata": {
        "colab": {
          "base_uri": "https://localhost:8080/"
        },
        "id": "ERd1cU23eShY",
        "outputId": "cf76eeac-7d64-438a-f594-e6c3798fbd7f"
      },
      "execution_count": 46,
      "outputs": [
        {
          "output_type": "execute_result",
          "data": {
            "text/plain": [
              "SparseVector(13, {0: 0.0205, 1: 0.0006, 4: 0.0052, 5: 0.2527, 6: 0.008, 7: 0.0772, 8: 0.0097, 9: 0.008, 10: 0.0318, 11: 0.0098, 12: 0.5765})"
            ]
          },
          "metadata": {},
          "execution_count": 46
        }
      ]
    },
    {
      "cell_type": "code",
      "source": [
        "house_df.take(1)"
      ],
      "metadata": {
        "colab": {
          "base_uri": "https://localhost:8080/"
        },
        "id": "JZ7ZaWZMeVeC",
        "outputId": "3c8a5e4d-3f09-4dfa-e366-9dcaf8dd809c"
      },
      "execution_count": 47,
      "outputs": [
        {
          "output_type": "execute_result",
          "data": {
            "text/plain": [
              "[Row(CRIM=0.00632, ZN=18.0, INDUS=2.309999943, CHAS=0, NOX=0.537999988, RM=6.574999809, AGE=65.19999695, DIS=4.090000153, RAD=1, TAX=296, PT=15.30000019, B=396.8999939, LSTAT=4.980000019, MV=24.0)]"
            ]
          },
          "metadata": {},
          "execution_count": 47
        }
      ]
    },
    {
      "cell_type": "markdown",
      "source": [
        "Gradient-boosted tree regression"
      ],
      "metadata": {
        "id": "5_hbVpzWeefw"
      }
    },
    {
      "cell_type": "code",
      "source": [
        "from pyspark.ml.regression import GBTRegressor\n",
        "gbt = GBTRegressor(featuresCol = 'features', labelCol = 'MV', maxIter=10)\n",
        "gbt_model = gbt.fit(train_df)\n",
        "gbt_predictions = gbt_model.transform(test_df)\n",
        "gbt_predictions.select('prediction', 'MV', 'features').show(5)"
      ],
      "metadata": {
        "colab": {
          "base_uri": "https://localhost:8080/"
        },
        "id": "v8PRqjjQeXrE",
        "outputId": "f3a7f098-bfb1-4ba8-b88b-57bb7a1c7545"
      },
      "execution_count": 48,
      "outputs": [
        {
          "output_type": "stream",
          "name": "stdout",
          "text": [
            "+------------------+-----------+--------------------+\n",
            "|        prediction|         MV|            features|\n",
            "+------------------+-----------+--------------------+\n",
            "| 40.14564040039023|       50.0|[0.01501,90.0,1.2...|\n",
            "|  48.6294757336407|       50.0|[0.020090001,95.0...|\n",
            "|23.431470736065933|       16.5|[0.024979999,0.0,...|\n",
            "|31.943792415897494|23.89999962|[0.025429999,55.0...|\n",
            "| 29.85826257979188|34.70000076|[0.02729,0.0,7.07...|\n",
            "+------------------+-----------+--------------------+\n",
            "only showing top 5 rows\n",
            "\n"
          ]
        }
      ]
    },
    {
      "cell_type": "code",
      "source": [
        "gbt_evaluator = RegressionEvaluator(\n",
        "    labelCol=\"MV\", predictionCol=\"prediction\", metricName=\"rmse\")\n",
        "rmse = gbt_evaluator.evaluate(gbt_predictions)\n",
        "print(\"Root Mean Squared Error (RMSE) on test data = %g\" % rmse)"
      ],
      "metadata": {
        "colab": {
          "base_uri": "https://localhost:8080/"
        },
        "id": "gSX9sLl_ekO0",
        "outputId": "4b81463d-285b-40aa-dbab-3ec0fe15991f"
      },
      "execution_count": 49,
      "outputs": [
        {
          "output_type": "stream",
          "name": "stdout",
          "text": [
            "Root Mean Squared Error (RMSE) on test data = 3.90661\n"
          ]
        }
      ]
    },
    {
      "cell_type": "markdown",
      "metadata": {
        "id": "0YPNUXX7zqny"
      },
      "source": [
        "# Classification in PySpark"
      ]
    },
    {
      "cell_type": "code",
      "execution_count": 22,
      "metadata": {
        "id": "joJu9qrKzqnz"
      },
      "outputs": [],
      "source": [
        "import pyspark\n",
        "import numpy as np\n",
        "import pandas as pd"
      ]
    },
    {
      "cell_type": "markdown",
      "metadata": {
        "id": "lxe36WxSzqnz"
      },
      "source": [
        "## Data Preparation"
      ]
    },
    {
      "cell_type": "markdown",
      "metadata": {
        "id": "8q5_FLzIzqnz"
      },
      "source": [
        "### Removing columns and rows\n",
        "You previously loaded airline flight data from a CSV file. You're going to develop a model which will predict whether or not a given flight will be delayed.\n",
        "\n",
        "In this exercise you need to trim those data down by:\n",
        "\n",
        "1. removing an uninformative column and\n",
        "2. removing rows which do not have information about whether or not a flight was delayed."
      ]
    },
    {
      "cell_type": "code",
      "execution_count": null,
      "metadata": {
        "id": "iQU5_Si6zqn0",
        "outputId": "d0d8f52a-bfa6-468b-9bd0-9eb5afed8d36",
        "colab": {
          "base_uri": "https://localhost:8080/"
        }
      },
      "outputs": [
        {
          "output_type": "stream",
          "name": "stdout",
          "text": [
            "+---+---+---+-------+------+---+----+------+--------+-----+\n",
            "|mon|dom|dow|carrier|flight|org|mile|depart|duration|delay|\n",
            "+---+---+---+-------+------+---+----+------+--------+-----+\n",
            "| 10| 10|  1|     OO|  5836|ORD| 157|  8.18|      51|   27|\n",
            "|  1|  4|  1|     OO|  5866|ORD| 466|  15.5|     102| null|\n",
            "| 11| 22|  1|     OO|  6016|ORD| 738|  7.17|     127|  -19|\n",
            "|  2| 14|  5|     B6|   199|JFK|2248| 21.17|     365|   60|\n",
            "|  5| 25|  3|     WN|  1675|SJC| 386| 12.92|      85|   22|\n",
            "+---+---+---+-------+------+---+----+------+--------+-----+\n",
            "only showing top 5 rows\n",
            "\n"
          ]
        }
      ],
      "source": [
        "from pyspark.sql import SparkSession\n",
        "\n",
        "spark = SparkSession.builder.master('local[*]').appName('flights').getOrCreate()\n",
        "\n",
        "# Read data from CSV file\n",
        "flights = spark.read.csv('Copy of flights-larger.csv', sep=',', header=True, inferSchema=True,\n",
        "                         nullValue='NA')\n",
        "\n",
        "flights.show(5)"
      ]
    },
    {
      "cell_type": "code",
      "execution_count": null,
      "metadata": {
        "id": "h4KfWuiMzqn0",
        "outputId": "e8ad988a-416d-4b98-aae7-6f35ac557ef4",
        "colab": {
          "base_uri": "https://localhost:8080/"
        }
      },
      "outputs": [
        {
          "output_type": "stream",
          "name": "stdout",
          "text": [
            "258289\n"
          ]
        }
      ],
      "source": [
        "# Remove the 'flight' column\n",
        "flights_drop_column = flights.drop('flight')\n",
        "\n",
        "# Number of records with missing 'delay' values\n",
        "flights_drop_column.filter('delay IS NULL').count()\n",
        "\n",
        "# Remove records with missing 'delay' values\n",
        "flights_valid_delay = flights_drop_column.filter('delay IS NOT NULL')\n",
        "\n",
        "# Remove records with missing values in any column and get the number of remaining rows\n",
        "flights_none_missing = flights_valid_delay.dropna()\n",
        "print(flights_none_missing.count())"
      ]
    },
    {
      "cell_type": "markdown",
      "metadata": {
        "id": "VG3SA0syzqn0"
      },
      "source": [
        "### Column manipulation\n",
        "The Federal Aviation Administration (FAA) considers a flight to be \"delayed\" when it arrives 15 minutes or more after its scheduled time.\n",
        "\n",
        "The next step of preparing the flight data has two parts:\n",
        "\n",
        "1. convert the units of distance, replacing the `mile` column with a `kmcolumn`; and\n",
        "2. create a Boolean column indicating whether or not a flight was delayed."
      ]
    },
    {
      "cell_type": "code",
      "execution_count": null,
      "metadata": {
        "id": "qDxxNuiRzqn0",
        "outputId": "41bb8c65-3d6c-4bb2-ac3d-2cced58e03e5",
        "colab": {
          "base_uri": "https://localhost:8080/"
        }
      },
      "outputs": [
        {
          "output_type": "stream",
          "name": "stdout",
          "text": [
            "+---+---+---+-------+---+------+--------+-----+------+-----+\n",
            "|mon|dom|dow|carrier|org|depart|duration|delay|    km|label|\n",
            "+---+---+---+-------+---+------+--------+-----+------+-----+\n",
            "| 10| 10|  1|     OO|ORD|  8.18|      51|   27| 253.0|    1|\n",
            "| 11| 22|  1|     OO|ORD|  7.17|     127|  -19|1188.0|    0|\n",
            "|  2| 14|  5|     B6|JFK| 21.17|     365|   60|3618.0|    1|\n",
            "|  5| 25|  3|     WN|SJC| 12.92|      85|   22| 621.0|    1|\n",
            "|  3| 28|  1|     B6|LGA| 13.33|     182|   70|1732.0|    1|\n",
            "+---+---+---+-------+---+------+--------+-----+------+-----+\n",
            "only showing top 5 rows\n",
            "\n"
          ]
        }
      ],
      "source": [
        "from pyspark.sql.functions import round\n",
        "\n",
        "# Convert 'mile' to 'km' and drop 'mile' column\n",
        "flights_km = flights_none_missing.withColumn('km', round(flights_none_missing.mile * 1.60934, 0)).drop('mile')\n",
        "\n",
        "# Create 'label' column indicating whether flight delayed (1) or not(0)\n",
        "flights_km = flights_km.withColumn('label', (flights_km.delay >= 15).cast('integer'))\n",
        "\n",
        "# Check first five records\n",
        "flights_km.show(5)"
      ]
    },
    {
      "cell_type": "markdown",
      "metadata": {
        "id": "MNNJ6sfHzqn0"
      },
      "source": [
        "### Categorical columns\n",
        "In the flights data there are two columns, `carrier` and `org`, which hold categorical data. You need to transform those columns into indexed numerical values.\n",
        "\n"
      ]
    },
    {
      "cell_type": "code",
      "execution_count": null,
      "metadata": {
        "id": "pQcsvHfFzqn0"
      },
      "outputs": [],
      "source": [
        "from pyspark.ml.feature import StringIndexer\n",
        "\n",
        "# Create an indexer\n",
        "indexer = StringIndexer(inputCol='carrier', outputCol='carrier_idx')\n",
        "\n",
        "# Indexer identifies categories in the data\n",
        "indexer_model = indexer.fit(flights_km)\n",
        "\n",
        "# Indexer creates a new column with numeric index values\n",
        "flights_indexed = indexer_model.transform(flights_km)\n",
        "\n",
        "# Repeat the process for the other categorical feature\n",
        "flights_indexed = StringIndexer(inputCol='org', outputCol='org_idx').fit(flights_indexed).transform(flights_indexed)"
      ]
    },
    {
      "cell_type": "markdown",
      "metadata": {
        "id": "ESb2vcg6zqn1"
      },
      "source": [
        "### Assembling columns\n",
        "The final stage of data preparation is to consolidate all of the predictor columns into a single column.\n",
        "\n",
        "At present our data has the following predictor columns:\n",
        "\n",
        "- `mon`, `dom` and `dow`\n",
        "- `carrier_idx` (derived from `carrier`)\n",
        "- `org_idx` (derived from `org`)\n",
        "- `km`\n",
        "- `depart`\n",
        "- `duration`"
      ]
    },
    {
      "cell_type": "code",
      "execution_count": null,
      "metadata": {
        "id": "GAn6n4eTzqn1",
        "outputId": "04497e77-dd0b-42f3-ba7c-d22f80fe34f5",
        "colab": {
          "base_uri": "https://localhost:8080/"
        }
      },
      "outputs": [
        {
          "output_type": "stream",
          "name": "stdout",
          "text": [
            "+-----------------------------------------+-----+\n",
            "|features                                 |delay|\n",
            "+-----------------------------------------+-----+\n",
            "|[10.0,10.0,1.0,2.0,0.0,253.0,8.18,51.0]  |27   |\n",
            "|[11.0,22.0,1.0,2.0,0.0,1188.0,7.17,127.0]|-19  |\n",
            "|[2.0,14.0,5.0,4.0,2.0,3618.0,21.17,365.0]|60   |\n",
            "|[5.0,25.0,3.0,3.0,5.0,621.0,12.92,85.0]  |22   |\n",
            "|[3.0,28.0,1.0,4.0,3.0,1732.0,13.33,182.0]|70   |\n",
            "+-----------------------------------------+-----+\n",
            "only showing top 5 rows\n",
            "\n"
          ]
        }
      ],
      "source": [
        "from pyspark.ml.feature import VectorAssembler\n",
        "\n",
        "# Create an assembler object\n",
        "assembler = VectorAssembler(inputCols=[\n",
        "    'mon', 'dom', 'dow',\n",
        "    'carrier_idx', \n",
        "    'org_idx',\n",
        "    'km', 'depart', 'duration'\n",
        "], outputCol='features')\n",
        "\n",
        "# Consolidate predictor columns\n",
        "flights_assembled = assembler.transform(flights_indexed)\n",
        "\n",
        "# Check the resulting column\n",
        "flights_assembled.select('features', 'delay').show(5, truncate=False)"
      ]
    },
    {
      "cell_type": "markdown",
      "metadata": {
        "id": "KMeejq-Nzqn1"
      },
      "source": [
        "## Decision Tree\n"
      ]
    },
    {
      "cell_type": "markdown",
      "metadata": {
        "id": "AEwcq7BRzqn1"
      },
      "source": [
        "### Train/test split\n",
        "To objectively assess a Machine Learning model you need to be able to test it on an independent set of data. You can't use the same data that you used to train the model: of course the model will perform (relatively) well on those data!\n",
        "\n",
        "You will split the data into two components:\n",
        "\n",
        "- training data (used to train the model) and\n",
        "- testing data (used to test the model)."
      ]
    },
    {
      "cell_type": "code",
      "execution_count": null,
      "metadata": {
        "id": "6leQ_TdNzqn1",
        "outputId": "0a5bda68-9ffb-494f-fd5d-7624317ec98e",
        "colab": {
          "base_uri": "https://localhost:8080/"
        }
      },
      "outputs": [
        {
          "output_type": "stream",
          "name": "stdout",
          "text": [
            "0.7998404887548444\n"
          ]
        }
      ],
      "source": [
        "# Split into training and test sets in a 80:20 ratio\n",
        "flights_train, flights_test = flights_assembled.randomSplit([0.8, 0.2], seed=17)\n",
        "\n",
        "# Check that training set has around 80% of records\n",
        "training_ratio = flights_train.count() / flights_assembled.count()\n",
        "print(training_ratio)"
      ]
    },
    {
      "cell_type": "markdown",
      "metadata": {
        "id": "6Vbn8euGzqn1"
      },
      "source": [
        "### Build a Decision Tree\n",
        "Now that you've split the flights data into training and testing sets, you can use the training set to fit a Decision Tree model."
      ]
    },
    {
      "cell_type": "code",
      "execution_count": null,
      "metadata": {
        "id": "obuPTAhHzqn1",
        "outputId": "ed13ea58-60ad-46ee-9c85-000b2bd6f72b",
        "colab": {
          "base_uri": "https://localhost:8080/"
        }
      },
      "outputs": [
        {
          "output_type": "stream",
          "name": "stdout",
          "text": [
            "+-----+----------+---------------------------------------+\n",
            "|label|prediction|probability                            |\n",
            "+-----+----------+---------------------------------------+\n",
            "|1    |0.0       |[0.6238747324282321,0.3761252675717679]|\n",
            "|1    |1.0       |[0.3155958747997202,0.6844041252002798]|\n",
            "|1    |0.0       |[0.6238747324282321,0.3761252675717679]|\n",
            "|1    |1.0       |[0.3155958747997202,0.6844041252002798]|\n",
            "|0    |1.0       |[0.3155958747997202,0.6844041252002798]|\n",
            "+-----+----------+---------------------------------------+\n",
            "only showing top 5 rows\n",
            "\n"
          ]
        }
      ],
      "source": [
        "from pyspark.ml.classification import DecisionTreeClassifier\n",
        "\n",
        "# Create a classifier object and fit to the training data\n",
        "tree = DecisionTreeClassifier()\n",
        "tree_model = tree.fit(flights_train)\n",
        "\n",
        "# Create predictions for the testing data and take a look at the predictions\n",
        "prediction = tree_model.transform(flights_test)\n",
        "prediction.select('label', 'prediction', 'probability').show(5, False)"
      ]
    },
    {
      "cell_type": "markdown",
      "metadata": {
        "id": "2MWogPyezqn1"
      },
      "source": [
        "### Evaluate the Decision Tree\n",
        "You can assess the quality of your model by evaluating how well it performs on the testing data. Because the model was not trained on these data, this represents an objective assessment of the model.\n",
        "\n",
        "A confusion matrix gives a useful breakdown of predictions versus known values. It has four cells which represent the counts of:\n",
        "\n",
        "- True Negatives (TN) — model predicts negative outcome & known outcome is negative\n",
        "- True Positives (TP) — model predicts positive outcome & known outcome is positive\n",
        "- False Negatives (FN) — model predicts negative outcome but known outcome is positive\n",
        "- False Positives (FP) — model predicts positive outcome but known outcome is negative."
      ]
    },
    {
      "cell_type": "code",
      "execution_count": null,
      "metadata": {
        "id": "M6lRjBEKzqn2",
        "outputId": "caab97fe-8b05-4d06-c170-105674064593",
        "colab": {
          "base_uri": "https://localhost:8080/"
        }
      },
      "outputs": [
        {
          "output_type": "stream",
          "name": "stdout",
          "text": [
            "+-----+----------+-----+\n",
            "|label|prediction|count|\n",
            "+-----+----------+-----+\n",
            "|    1|       0.0| 9816|\n",
            "|    0|       0.0|16687|\n",
            "|    1|       1.0|16050|\n",
            "|    0|       1.0| 9146|\n",
            "+-----+----------+-----+\n",
            "\n",
            "0.6332230797500918\n"
          ]
        }
      ],
      "source": [
        "# Create a confusion matrix\n",
        "prediction.groupBy('label', 'prediction').count().show()\n",
        "\n",
        "# Calculate the elements of the confusion matrix\n",
        "TN = prediction.filter('prediction = 0 AND label = prediction').count()\n",
        "TP = prediction.filter('prediction = 1 AND label = prediction').count()\n",
        "FN = prediction.filter('prediction = 0 AND label = 1').count()\n",
        "FP = prediction.filter('prediction = 1 AND label = 0').count()\n",
        "\n",
        "# Accuracy measures the proportion of correct predictions\n",
        "accuracy = (TN + TP) / (TN + TP + FN + FP)\n",
        "print(accuracy)"
      ]
    },
    {
      "cell_type": "markdown",
      "metadata": {
        "id": "jPUR-03Mzqn2"
      },
      "source": [
        "## Logistic Regression\n"
      ]
    },
    {
      "cell_type": "markdown",
      "metadata": {
        "id": "BiXlj9Yazqn2"
      },
      "source": [
        "### Build a Logistic Regression model\n",
        "You've already built a Decision Tree model using the flights data. Now you're going to create a Logistic Regression model on the same data.\n",
        "\n",
        "The objective is to predict whether a flight is likely to be delayed by at least 15 minutes (label 1) or not (label 0).\n",
        "\n",
        "Although you have a variety of predictors at your disposal, you'll only use the `mon`, `depart` and `duration` columns for the moment. These are numerical features which can immediately be used for a Logistic Regression model. You'll need to do a little more work before you can include categorical features."
      ]
    },
    {
      "cell_type": "code",
      "execution_count": null,
      "metadata": {
        "id": "lliIKsXmzqn2",
        "outputId": "265e8efb-036e-4216-9a3a-f855051a5a7c",
        "colab": {
          "base_uri": "https://localhost:8080/"
        }
      },
      "outputs": [
        {
          "output_type": "stream",
          "name": "stdout",
          "text": [
            "+-----+----------+-----+\n",
            "|label|prediction|count|\n",
            "+-----+----------+-----+\n",
            "|    1|       0.0| 9380|\n",
            "|    0|       0.0|14862|\n",
            "|    1|       1.0|16486|\n",
            "|    0|       1.0|10971|\n",
            "+-----+----------+-----+\n",
            "\n"
          ]
        }
      ],
      "source": [
        "from pyspark.ml.classification import LogisticRegression\n",
        "\n",
        "# Selecting numeric columns\n",
        "flights_train_num = flights_train.select(\"mon\", 'depart', 'duration', 'features', 'label')\n",
        "flights_test_num = flights_test.select(\"mon\", \"depart\", \"duration\", 'features', 'label')\n",
        "\n",
        "# Create classifier object and train on training data\n",
        "logistic = LogisticRegression().fit(flights_train_num)\n",
        "\n",
        "# Create a predictions for the test data and show confusion matrix\n",
        "prediction = logistic.transform(flights_test_num)\n",
        "prediction.groupBy(\"label\", \"prediction\").count().show()"
      ]
    },
    {
      "cell_type": "markdown",
      "metadata": {
        "id": "O_bPR_kazqn2"
      },
      "source": [
        "### Evaluate the Logistic Regression model\n",
        "Accuracy is generally not a very reliable metric because it can be biased by the most common target class.\n",
        "\n",
        "There are two other useful metrics:\n",
        "\n",
        "- precision and\n",
        "- recall.\n",
        "\n",
        "Precision is the proportion of positive predictions which are correct. For all flights which are predicted to be delayed, what proportion is actually delayed?\n",
        "\n",
        "Recall is the proportion of positives outcomes which are correctly predicted. For all delayed flights, what proportion is correctly predicted by the model?\n",
        "\n",
        "The precision and recall are generally formulated in terms of the positive target class. But it's also possible to calculate weighted versions of these metrics which look at both target classes."
      ]
    },
    {
      "cell_type": "code",
      "execution_count": null,
      "metadata": {
        "id": "PFX55vZdzqn2"
      },
      "outputs": [],
      "source": [
        "# Calculate the elements of the confusion matrix\n",
        "TN = prediction.filter('prediction = 0 AND label = prediction').count()\n",
        "TP = prediction.filter('prediction = 1 AND label = prediction').count()\n",
        "FN = prediction.filter('prediction = 0 AND label = 1').count()\n",
        "FP = prediction.filter('prediction = 1 AND label = 0').count()"
      ]
    },
    {
      "cell_type": "code",
      "execution_count": null,
      "metadata": {
        "id": "xOrkvstDzqn2",
        "outputId": "6e287ef9-43b0-401b-d90f-b7f2895b85b8",
        "colab": {
          "base_uri": "https://localhost:8080/"
        }
      },
      "outputs": [
        {
          "output_type": "stream",
          "name": "stdout",
          "text": [
            "precision = 0.60\n",
            "recall   = 0.64\n"
          ]
        }
      ],
      "source": [
        "from pyspark.ml.evaluation import MulticlassClassificationEvaluator, BinaryClassificationEvaluator\n",
        "\n",
        "# Calculate precision and recall\n",
        "precision = TP / (TP + FP)\n",
        "recall = TP / (TP + FN)\n",
        "print('precision = {:.2f}\\nrecall   = {:.2f}'.format(precision, recall))\n",
        "\n",
        "# Find weighted precision\n",
        "multi_evaluator = MulticlassClassificationEvaluator()\n",
        "weighted_precision = multi_evaluator.evaluate(prediction, {multi_evaluator.metricName: \"weightedPrecision\"})\n",
        "\n",
        "# Find AUC\n",
        "binary_evaluator = BinaryClassificationEvaluator()\n",
        "auc = binary_evaluator.evaluate(prediction, {binary_evaluator.metricName: \"areaUnderROC\"})"
      ]
    },
    {
      "cell_type": "code",
      "execution_count": null,
      "metadata": {
        "id": "agyv6_qOzqn2",
        "outputId": "33b11b31-b404-4c49-811e-3628ec76714b",
        "colab": {
          "base_uri": "https://localhost:8080/"
        }
      },
      "outputs": [
        {
          "output_type": "stream",
          "name": "stdout",
          "text": [
            "0.6067449621670649\n",
            "0.6476029326815657\n"
          ]
        }
      ],
      "source": [
        "print(weighted_precision)\n",
        "print(auc)"
      ]
    }
  ],
  "metadata": {
    "kernelspec": {
      "display_name": "Python 3",
      "language": "python",
      "name": "python3"
    },
    "language_info": {
      "codemirror_mode": {
        "name": "ipython",
        "version": 3
      },
      "file_extension": ".py",
      "mimetype": "text/x-python",
      "name": "python",
      "nbconvert_exporter": "python",
      "pygments_lexer": "ipython3",
      "version": "3.7.6"
    },
    "colab": {
      "provenance": [],
      "collapsed_sections": []
    }
  },
  "nbformat": 4,
  "nbformat_minor": 0
}